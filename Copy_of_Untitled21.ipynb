{
  "nbformat": 4,
  "nbformat_minor": 0,
  "metadata": {
    "colab": {
      "name": "Copy of Untitled21.ipynb",
      "provenance": [],
      "collapsed_sections": [],
      "include_colab_link": true
    },
    "kernelspec": {
      "name": "python3",
      "display_name": "Python 3"
    }
  },
  "cells": [
    {
      "cell_type": "markdown",
      "metadata": {
        "id": "view-in-github",
        "colab_type": "text"
      },
      "source": [
        "<a href=\"https://colab.research.google.com/github/satheeshnani/TensorFlow-Course/blob/master/Copy_of_Untitled21.ipynb\" target=\"_parent\"><img src=\"https://colab.research.google.com/assets/colab-badge.svg\" alt=\"Open In Colab\"/></a>"
      ]
    },
    {
      "cell_type": "code",
      "metadata": {
        "id": "IfyJ9QymOhO6",
        "colab": {
          "base_uri": "https://localhost:8080/"
        },
        "outputId": "ae5f6ec2-0426-456a-830d-978b7594819d"
      },
      "source": [
        "!pip install kaggle"
      ],
      "execution_count": null,
      "outputs": [
        {
          "output_type": "stream",
          "text": [
            "Requirement already satisfied: kaggle in /usr/local/lib/python3.7/dist-packages (1.5.10)\n",
            "Requirement already satisfied: python-dateutil in /usr/local/lib/python3.7/dist-packages (from kaggle) (2.8.1)\n",
            "Requirement already satisfied: urllib3 in /usr/local/lib/python3.7/dist-packages (from kaggle) (1.24.3)\n",
            "Requirement already satisfied: certifi in /usr/local/lib/python3.7/dist-packages (from kaggle) (2020.12.5)\n",
            "Requirement already satisfied: python-slugify in /usr/local/lib/python3.7/dist-packages (from kaggle) (4.0.1)\n",
            "Requirement already satisfied: requests in /usr/local/lib/python3.7/dist-packages (from kaggle) (2.23.0)\n",
            "Requirement already satisfied: tqdm in /usr/local/lib/python3.7/dist-packages (from kaggle) (4.41.1)\n",
            "Requirement already satisfied: six>=1.10 in /usr/local/lib/python3.7/dist-packages (from kaggle) (1.15.0)\n",
            "Requirement already satisfied: text-unidecode>=1.3 in /usr/local/lib/python3.7/dist-packages (from python-slugify->kaggle) (1.3)\n",
            "Requirement already satisfied: chardet<4,>=3.0.2 in /usr/local/lib/python3.7/dist-packages (from requests->kaggle) (3.0.4)\n",
            "Requirement already satisfied: idna<3,>=2.5 in /usr/local/lib/python3.7/dist-packages (from requests->kaggle) (2.10)\n"
          ],
          "name": "stdout"
        }
      ]
    },
    {
      "cell_type": "code",
      "metadata": {
        "id": "9wNmZwQy09BG"
      },
      "source": [
        ""
      ],
      "execution_count": null,
      "outputs": []
    },
    {
      "cell_type": "code",
      "metadata": {
        "id": "TJW9cXUYUPUF",
        "colab": {
          "resources": {
            "http://localhost:8080/nbextensions/google.colab/files.js": {
              "data": "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",
              "ok": true,
              "headers": [
                [
                  "content-type",
                  "application/javascript"
                ]
              ],
              "status": 200,
              "status_text": ""
            }
          },
          "base_uri": "https://localhost:8080/",
          "height": 90
        },
        "outputId": "ccafd27e-bd37-4f1c-d88e-2c9de532d9d1"
      },
      "source": [
        "from google.colab import files\n",
        "files.upload()"
      ],
      "execution_count": null,
      "outputs": [
        {
          "output_type": "display_data",
          "data": {
            "text/html": [
              "\n",
              "     <input type=\"file\" id=\"files-02045b48-7c96-4e59-a951-e9cbca1d6e96\" name=\"files[]\" multiple disabled\n",
              "        style=\"border:none\" />\n",
              "     <output id=\"result-02045b48-7c96-4e59-a951-e9cbca1d6e96\">\n",
              "      Upload widget is only available when the cell has been executed in the\n",
              "      current browser session. Please rerun this cell to enable.\n",
              "      </output>\n",
              "      <script src=\"/nbextensions/google.colab/files.js\"></script> "
            ],
            "text/plain": [
              "<IPython.core.display.HTML object>"
            ]
          },
          "metadata": {
            "tags": []
          }
        },
        {
          "output_type": "stream",
          "text": [
            "Saving kaggle.json to kaggle.json\n"
          ],
          "name": "stdout"
        },
        {
          "output_type": "execute_result",
          "data": {
            "text/plain": [
              "{'kaggle.json': b'{\"username\":\"bhukyasatheesh\",\"key\":\"71f85a1ed18030a2306d54d7d06db00e\"}'}"
            ]
          },
          "metadata": {
            "tags": []
          },
          "execution_count": 2
        }
      ]
    },
    {
      "cell_type": "code",
      "metadata": {
        "id": "r01qk_z5W7vq"
      },
      "source": [
        "!mkdir -p ~/.kaggle\n",
        "!cp kaggle.json ~/.kaggle/\n",
        "!chmod 600 ~/.kaggle/kaggle.json"
      ],
      "execution_count": null,
      "outputs": []
    },
    {
      "cell_type": "code",
      "metadata": {
        "id": "NohLTdQcW7zZ",
        "colab": {
          "base_uri": "https://localhost:8080/"
        },
        "outputId": "365197f8-e8eb-4a17-d55f-549efea5d06f"
      },
      "source": [
        "!kaggle datasets download -d sartajbhuvaji/brain-tumor-classification-mri"
      ],
      "execution_count": null,
      "outputs": [
        {
          "output_type": "stream",
          "text": [
            "Downloading brain-tumor-classification-mri.zip to /content\n",
            " 75% 65.0M/86.8M [00:01<00:01, 17.6MB/s]\n",
            "100% 86.8M/86.8M [00:01<00:00, 53.0MB/s]\n"
          ],
          "name": "stdout"
        }
      ]
    },
    {
      "cell_type": "code",
      "metadata": {
        "id": "_l1WRNthW74A",
        "colab": {
          "base_uri": "https://localhost:8080/"
        },
        "outputId": "2d9b1101-197f-485e-aa4d-1091db0f66eb"
      },
      "source": [
        "from zipfile import ZipFile\n",
        "file_name=\"/content/brain-tumor-classification-mri.zip\"\n",
        "with ZipFile(file_name,\"r\") as zip:\n",
        "  zip.extractall()\n",
        "  print('Done')"
      ],
      "execution_count": null,
      "outputs": [
        {
          "output_type": "stream",
          "text": [
            "Done\n"
          ],
          "name": "stdout"
        }
      ]
    },
    {
      "cell_type": "code",
      "metadata": {
        "id": "PAxBqHkMW77y"
      },
      "source": [
        "Data_location=\"/content/Training\""
      ],
      "execution_count": null,
      "outputs": []
    },
    {
      "cell_type": "code",
      "metadata": {
        "id": "BjDaCqLPW7-o"
      },
      "source": [
        "import os\n",
        "fs=os.listdir(Data_location)"
      ],
      "execution_count": null,
      "outputs": []
    },
    {
      "cell_type": "code",
      "metadata": {
        "id": "9UASFFN5W8FR"
      },
      "source": [
        "s=[\"/content/Training/glioma_tumor\",\"/content/Testing/meningioma_tumor\",\"/content/Training/pituitary_tumor\",\"/content/Training/no_tumor\"]"
      ],
      "execution_count": null,
      "outputs": []
    },
    {
      "cell_type": "code",
      "metadata": {
        "colab": {
          "base_uri": "https://localhost:8080/"
        },
        "id": "IDOwRhHFe1v6",
        "outputId": "9b353388-02f9-4cb6-f63e-0512957bd12f"
      },
      "source": [
        "k=[]\n",
        "for i in range(0,len(s)):\n",
        "  k.append(os.listdir(s[i]))\n",
        "print(len(k))\n",
        "print(k)"
      ],
      "execution_count": null,
      "outputs": [
        {
          "output_type": "stream",
          "text": [
            "4\n",
            "[['gg (677).jpg', 'gg (78).jpg', 'gg (188).jpg', 'gg (437).jpg', 'gg (818).jpg', 'gg (34).jpg', 'gg (570).jpg', 'gg (230).jpg', 'gg (254).jpg', 'gg (195).jpg', 'gg (791).jpg', 'gg (797).jpg', 'gg (19).jpg', 'gg (171).jpg', 'gg (345).jpg', 'gg (87).jpg', 'gg (746).jpg', 'gg (743).jpg', 'gg (444).jpg', 'gg (94).jpg', 'gg (251).jpg', 'gg (465).jpg', 'gg (86).jpg', 'gg (547).jpg', 'gg (267).jpg', 'gg (1).jpg', 'gg (378).jpg', 'gg (457).jpg', 'gg (416).jpg', 'gg (155).jpg', 'gg (335).jpg', 'gg (356).jpg', 'gg (79).jpg', 'gg (666).jpg', 'gg (493).jpg', 'gg (214).jpg', 'gg (360).jpg', 'gg (620).jpg', 'gg (397).jpg', 'gg (226).jpg', 'gg (430).jpg', 'gg (11).jpg', 'gg (367).jpg', 'gg (566).jpg', 'gg (207).jpg', 'gg (624).jpg', 'gg (616).jpg', 'gg (815).jpg', 'gg (491).jpg', 'gg (394).jpg', 'gg (6).jpg', 'gg (228).jpg', 'gg (179).jpg', 'gg (452).jpg', 'gg (788).jpg', 'gg (425).jpg', 'gg (442).jpg', 'gg (46).jpg', 'gg (419).jpg', 'gg (355).jpg', 'gg (799).jpg', 'gg (167).jpg', 'gg (264).jpg', 'gg (344).jpg', 'gg (315).jpg', 'gg (50).jpg', 'gg (49).jpg', 'gg (259).jpg', 'gg (500).jpg', 'gg (91).jpg', 'gg (384).jpg', 'gg (379).jpg', 'gg (131).jpg', 'gg (460).jpg', 'gg (307).jpg', 'gg (761).jpg', 'gg (153).jpg', 'gg (160).jpg', 'gg (103).jpg', 'gg (717).jpg', 'gg (60).jpg', 'gg (605).jpg', 'gg (312).jpg', 'gg (194).jpg', 'gg (599).jpg', 'gg (297).jpg', 'gg (44).jpg', 'gg (303).jpg', 'gg (795).jpg', 'gg (701).jpg', 'gg (202).jpg', 'gg (286).jpg', 'gg (467).jpg', 'gg (466).jpg', 'gg (413).jpg', 'gg (187).jpg', 'gg (804).jpg', 'gg (422).jpg', 'gg (327).jpg', 'gg (631).jpg', 'gg (343).jpg', 'gg (435).jpg', 'gg (262).jpg', 'gg (781).jpg', 'gg (680).jpg', 'gg (22).jpg', 'gg (196).jpg', 'gg (406).jpg', 'gg (298).jpg', 'gg (119).jpg', 'gg (633).jpg', 'gg (486).jpg', 'gg (732).jpg', 'gg (402).jpg', 'gg (287).jpg', 'gg (338).jpg', 'gg (441).jpg', 'gg (143).jpg', 'gg (611).jpg', 'gg (113).jpg', 'gg (399).jpg', 'gg (573).jpg', 'gg (142).jpg', 'gg (291).jpg', 'gg (210).jpg', 'gg (13).jpg', 'gg (182).jpg', 'gg (552).jpg', 'gg (134).jpg', 'gg (241).jpg', 'gg (429).jpg', 'gg (667).jpg', 'gg (55).jpg', 'gg (122).jpg', 'gg (592).jpg', 'gg (30).jpg', 'gg (758).jpg', 'gg (294).jpg', 'gg (622).jpg', 'gg (613).jpg', 'gg (659).jpg', 'gg (346).jpg', 'gg (158).jpg', 'gg (733).jpg', 'gg (740).jpg', 'gg (72).jpg', 'gg (125).jpg', 'gg (588).jpg', 'gg (528).jpg', 'gg (643).jpg', 'gg (130).jpg', 'gg (147).jpg', 'gg (595).jpg', 'gg (455).jpg', 'gg (612).jpg', 'gg (82).jpg', 'gg (473).jpg', 'gg (648).jpg', 'gg (274).jpg', 'gg (121).jpg', 'gg (237).jpg', 'gg (817).jpg', 'gg (482).jpg', 'gg (639).jpg', 'gg (800).jpg', 'gg (475).jpg', 'gg (396).jpg', 'gg (813).jpg', 'gg (20).jpg', 'gg (660).jpg', 'gg (803).jpg', 'gg (596).jpg', 'gg (690).jpg', 'gg (504).jpg', 'gg (387).jpg', 'gg (63).jpg', 'gg (522).jpg', 'gg (502).jpg', 'gg (370).jpg', 'gg (669).jpg', 'gg (535).jpg', 'gg (197).jpg', 'gg (111).jpg', 'gg (236).jpg', 'gg (806).jpg', 'gg (148).jpg', 'gg (261).jpg', 'gg (598).jpg', 'gg (70).jpg', 'gg (377).jpg', 'gg (58).jpg', 'gg (503).jpg', 'gg (529).jpg', 'gg (551).jpg', 'gg (789).jpg', 'gg (632).jpg', 'gg (472).jpg', 'gg (711).jpg', 'gg (59).jpg', 'gg (640).jpg', 'gg (479).jpg', 'gg (256).jpg', 'gg (495).jpg', 'gg (137).jpg', 'gg (314).jpg', 'gg (38).jpg', 'gg (450).jpg', 'gg (342).jpg', 'gg (368).jpg', 'gg (775).jpg', 'gg (56).jpg', 'gg (715).jpg', 'gg (698).jpg', 'gg (118).jpg', 'gg (675).jpg', 'gg (388).jpg', 'gg (112).jpg', 'gg (782).jpg', 'gg (580).jpg', 'gg (100).jpg', 'gg (386).jpg', 'gg (107).jpg', 'gg (525).jpg', 'gg (204).jpg', 'gg (66).jpg', 'gg (565).jpg', 'gg (783).jpg', 'gg (28).jpg', 'gg (712).jpg', 'gg (577).jpg', 'gg (517).jpg', 'gg (146).jpg', 'gg (724).jpg', 'gg (115).jpg', 'gg (138).jpg', 'gg (543).jpg', 'gg (374).jpg', 'gg (664).jpg', 'gg (693).jpg', 'gg (359).jpg', 'gg (798).jpg', 'gg (320).jpg', 'gg (645).jpg', 'gg (249).jpg', 'gg (468).jpg', 'gg (590).jpg', 'gg (751).jpg', 'gg (511).jpg', 'gg (446).jpg', 'gg (191).jpg', 'gg (350).jpg', 'gg (90).jpg', 'gg (193).jpg', 'gg (12).jpg', 'gg (819).jpg', 'gg (753).jpg', 'gg (276).jpg', 'gg (637).jpg', 'gg (670).jpg', 'gg (644).jpg', 'gg (784).jpg', 'gg (33).jpg', 'gg (51).jpg', 'gg (273).jpg', 'gg (250).jpg', 'gg (615).jpg', 'gg (608).jpg', 'gg (526).jpg', 'gg (787).jpg', 'gg (363).jpg', 'gg (619).jpg', 'gg (54).jpg', 'gg (325).jpg', 'gg (823).jpg', 'gg (333).jpg', 'gg (433).jpg', 'gg (531).jpg', 'gg (231).jpg', 'gg (820).jpg', 'gg (647).jpg', 'gg (93).jpg', 'gg (769).jpg', 'gg (453).jpg', 'gg (282).jpg', 'gg (35).jpg', 'gg (662).jpg', 'gg (227).jpg', 'gg (678).jpg', 'gg (324).jpg', 'gg (709).jpg', 'gg (686).jpg', 'gg (178).jpg', 'gg (309).jpg', 'gg (123).jpg', 'gg (581).jpg', 'gg (373).jpg', 'gg (21).jpg', 'gg (737).jpg', 'gg (586).jpg', 'gg (772).jpg', 'gg (105).jpg', 'gg (805).jpg', 'gg (281).jpg', 'gg (496).jpg', 'gg (713).jpg', 'gg (301).jpg', 'gg (459).jpg', 'gg (395).jpg', 'gg (253).jpg', 'gg (533).jpg', 'gg (133).jpg', 'gg (361).jpg', 'gg (515).jpg', 'gg (310).jpg', 'gg (372).jpg', 'gg (518).jpg', 'gg (729).jpg', 'gg (601).jpg', 'gg (4).jpg', 'gg (461).jpg', 'gg (725).jpg', 'gg (463).jpg', 'gg (432).jpg', 'gg (270).jpg', 'gg (400).jpg', 'gg (506).jpg', 'gg (707).jpg', 'gg (747).jpg', 'gg (700).jpg', 'gg (319).jpg', 'gg (763).jpg', 'gg (689).jpg', 'gg (151).jpg', 'gg (222).jpg', 'gg (696).jpg', 'gg (609).jpg', 'gg (742).jpg', 'gg (478).jpg', 'gg (321).jpg', 'gg (180).jpg', 'gg (440).jpg', 'gg (811).jpg', 'gg (721).jpg', 'gg (532).jpg', 'gg (456).jpg', 'gg (233).jpg', 'gg (10).jpg', 'gg (332).jpg', 'gg (88).jpg', 'gg (589).jpg', 'gg (765).jpg', 'gg (764).jpg', 'gg (154).jpg', 'gg (337).jpg', 'gg (57).jpg', 'gg (451).jpg', 'gg (708).jpg', 'gg (687).jpg', 'gg (351).jpg', 'gg (738).jpg', 'gg (777).jpg', 'gg (68).jpg', 'gg (47).jpg', 'gg (234).jpg', 'gg (705).jpg', 'gg (809).jpg', 'gg (208).jpg', 'gg (778).jpg', 'gg (438).jpg', 'gg (752).jpg', 'gg (277).jpg', 'gg (101).jpg', 'gg (104).jpg', 'gg (672).jpg', 'gg (477).jpg', 'gg (790).jpg', 'gg (826).jpg', 'gg (288).jpg', 'gg (31).jpg', 'gg (83).jpg', 'gg (490).jpg', 'gg (568).jpg', 'gg (393).jpg', 'gg (634).jpg', 'gg (52).jpg', 'gg (544).jpg', 'gg (162).jpg', 'gg (418).jpg', 'gg (726).jpg', 'gg (166).jpg', 'gg (785).jpg', 'gg (808).jpg', 'gg (7).jpg', 'gg (39).jpg', 'gg (334).jpg', 'gg (476).jpg', 'gg (322).jpg', 'gg (412).jpg', 'gg (116).jpg', 'gg (229).jpg', 'gg (275).jpg', 'gg (653).jpg', 'gg (218).jpg', 'gg (283).jpg', 'gg (731).jpg', 'gg (205).jpg', 'gg (348).jpg', 'gg (225).jpg', 'gg (604).jpg', 'gg (410).jpg', 'gg (585).jpg', 'gg (702).jpg', 'gg (684).jpg', 'gg (462).jpg', 'gg (754).jpg', 'gg (365).jpg', 'gg (627).jpg', 'gg (426).jpg', 'gg (436).jpg', 'gg (688).jpg', 'gg (760).jpg', 'gg (243).jpg', 'gg (537).jpg', 'gg (209).jpg', 'gg (392).jpg', 'gg (593).jpg', 'gg (206).jpg', 'gg (697).jpg', 'gg (313).jpg', 'gg (40).jpg', 'gg (14).jpg', 'gg (415).jpg', 'gg (642).jpg', 'gg (716).jpg', 'gg (85).jpg', 'gg (741).jpg', 'gg (548).jpg', 'gg (217).jpg', 'gg (559).jpg', 'gg (682).jpg', 'gg (816).jpg', 'gg (212).jpg', 'gg (730).jpg', 'gg (649).jpg', 'gg (679).jpg', 'gg (812).jpg', 'gg (362).jpg', 'gg (695).jpg', 'gg (15).jpg', 'gg (165).jpg', 'gg (169).jpg', 'gg (501).jpg', 'gg (536).jpg', 'gg (62).jpg', 'gg (597).jpg', 'gg (203).jpg', 'gg (190).jpg', 'gg (157).jpg', 'gg (635).jpg', 'gg (95).jpg', 'gg (623).jpg', 'gg (723).jpg', 'gg (575).jpg', 'gg (347).jpg', 'gg (691).jpg', 'gg (247).jpg', 'gg (474).jpg', 'gg (562).jpg', 'gg (745).jpg', 'gg (265).jpg', 'gg (219).jpg', 'gg (98).jpg', 'gg (92).jpg', 'gg (638).jpg', 'gg (266).jpg', 'gg (602).jpg', 'gg (509).jpg', 'gg (349).jpg', 'gg (563).jpg', 'gg (257).jpg', 'gg (189).jpg', 'gg (607).jpg', 'gg (211).jpg', 'gg (542).jpg', 'gg (186).jpg', 'gg (352).jpg', 'gg (671).jpg', 'gg (439).jpg', 'gg (106).jpg', 'gg (409).jpg', 'gg (150).jpg', 'gg (497).jpg', 'gg (545).jpg', 'gg (572).jpg', 'gg (405).jpg', 'gg (271).jpg', 'gg (258).jpg', 'gg (541).jpg', 'gg (3).jpg', 'gg (414).jpg', 'gg (480).jpg', 'gg (540).jpg', 'gg (512).jpg', 'gg (665).jpg', 'gg (200).jpg', 'gg (353).jpg', 'gg (661).jpg', 'gg (220).jpg', 'gg (520).jpg', 'gg (494).jpg', 'gg (255).jpg', 'gg (177).jpg', 'gg (505).jpg', 'gg (295).jpg', 'gg (420).jpg', 'gg (383).jpg', 'gg (279).jpg', 'gg (235).jpg', 'gg (610).jpg', 'gg (727).jpg', 'gg (564).jpg', 'gg (380).jpg', 'gg (458).jpg', 'gg (199).jpg', 'gg (285).jpg', 'gg (663).jpg', 'gg (483).jpg', 'gg (376).jpg', 'gg (591).jpg', 'gg (96).jpg', 'gg (516).jpg', 'gg (27).jpg', 'gg (802).jpg', 'gg (185).jpg', 'gg (308).jpg', 'gg (221).jpg', 'gg (683).jpg', 'gg (69).jpg', 'gg (181).jpg', 'gg (759).jpg', 'gg (582).jpg', 'gg (71).jpg', 'gg (449).jpg', 'gg (149).jpg', 'gg (810).jpg', 'gg (156).jpg', 'gg (685).jpg', 'gg (779).jpg', 'gg (796).jpg', 'gg (23).jpg', 'gg (767).jpg', 'gg (163).jpg', 'gg (557).jpg', 'gg (108).jpg', 'gg (579).jpg', 'gg (454).jpg', 'gg (674).jpg', 'gg (722).jpg', 'gg (748).jpg', 'gg (152).jpg', 'gg (74).jpg', 'gg (36).jpg', 'gg (18).jpg', 'gg (523).jpg', 'gg (513).jpg', 'gg (61).jpg', 'gg (539).jpg', 'gg (296).jpg', 'gg (300).jpg', 'gg (75).jpg', 'gg (780).jpg', 'gg (771).jpg', 'gg (76).jpg', 'gg (750).jpg', 'gg (801).jpg', 'gg (569).jpg', 'gg (521).jpg', 'gg (184).jpg', 'gg (293).jpg', 'gg (135).jpg', 'gg (2).jpg', 'gg (32).jpg', 'gg (822).jpg', 'gg (510).jpg', 'gg (328).jpg', 'gg (821).jpg', 'gg (401).jpg', 'gg (469).jpg', 'gg (213).jpg', 'gg (304).jpg', 'gg (80).jpg', 'gg (398).jpg', 'gg (263).jpg', 'gg (381).jpg', 'gg (245).jpg', 'gg (385).jpg', 'gg (389).jpg', 'gg (411).jpg', 'gg (124).jpg', 'gg (735).jpg', 'gg (538).jpg', 'gg (427).jpg', 'gg (530).jpg', 'gg (728).jpg', 'gg (24).jpg', 'gg (408).jpg', 'gg (89).jpg', 'gg (280).jpg', 'gg (651).jpg', 'gg (629).jpg', 'gg (382).jpg', 'gg (132).jpg', 'gg (792).jpg', 'gg (793).jpg', 'gg (576).jpg', 'gg (749).jpg', 'gg (176).jpg', 'gg (128).jpg', 'gg (773).jpg', 'gg (464).jpg', 'gg (814).jpg', 'gg (487).jpg', 'gg (43).jpg', 'gg (192).jpg', 'gg (744).jpg', 'gg (317).jpg', 'gg (5).jpg', 'gg (238).jpg', 'gg (755).jpg', 'gg (329).jpg', 'gg (216).jpg', 'gg (554).jpg', 'gg (252).jpg', 'gg (364).jpg', 'gg (762).jpg', 'gg (299).jpg', 'gg (824).jpg', 'gg (340).jpg', 'gg (614).jpg', 'gg (306).jpg', 'gg (527).jpg', 'gg (201).jpg', 'gg (417).jpg', 'gg (443).jpg', 'gg (37).jpg', 'gg (240).jpg', 'gg (424).jpg', 'gg (628).jpg', 'gg (734).jpg', 'gg (739).jpg', 'gg (67).jpg', 'gg (641).jpg', 'gg (145).jpg', 'gg (102).jpg', 'gg (706).jpg', 'gg (65).jpg', 'gg (636).jpg', 'gg (330).jpg', 'gg (434).jpg', 'gg (45).jpg', 'gg (499).jpg', 'gg (447).jpg', 'gg (129).jpg', 'gg (571).jpg', 'gg (704).jpg', 'gg (549).jpg', 'gg (768).jpg', 'gg (358).jpg', 'gg (42).jpg', 'gg (657).jpg', 'gg (164).jpg', 'gg (668).jpg', 'gg (471).jpg', 'gg (583).jpg', 'gg (272).jpg', 'gg (621).jpg', 'gg (26).jpg', 'gg (594).jpg', 'gg (141).jpg', 'gg (110).jpg', 'gg (431).jpg', 'gg (139).jpg', 'gg (794).jpg', 'gg (48).jpg', 'gg (445).jpg', 'gg (29).jpg', 'gg (519).jpg', 'gg (117).jpg', 'gg (524).jpg', 'gg (239).jpg', 'gg (766).jpg', 'gg (617).jpg', 'gg (77).jpg', 'gg (73).jpg', 'gg (681).jpg', 'gg (587).jpg', 'gg (658).jpg', 'gg (673).jpg', 'gg (168).jpg', 'gg (341).jpg', 'gg (84).jpg', 'gg (652).jpg', 'gg (290).jpg', 'gg (618).jpg', 'gg (311).jpg', 'gg (692).jpg', 'gg (183).jpg', 'gg (173).jpg', 'gg (655).jpg', 'gg (260).jpg', 'gg (371).jpg', 'gg (676).jpg', 'gg (289).jpg', 'gg (488).jpg', 'gg (316).jpg', 'gg (507).jpg', 'gg (600).jpg', 'gg (786).jpg', 'gg (25).jpg', 'gg (224).jpg', 'gg (375).jpg', 'gg (109).jpg', 'gg (126).jpg', 'gg (719).jpg', 'gg (650).jpg', 'gg (736).jpg', 'gg (9).jpg', 'gg (17).jpg', 'gg (284).jpg', 'gg (64).jpg', 'gg (53).jpg', 'gg (561).jpg', 'gg (366).jpg', 'gg (603).jpg', 'gg (339).jpg', 'gg (550).jpg', 'gg (492).jpg', 'gg (215).jpg', 'gg (302).jpg', 'gg (404).jpg', 'gg (278).jpg', 'gg (175).jpg', 'gg (556).jpg', 'gg (305).jpg', 'gg (120).jpg', 'gg (357).jpg', 'gg (97).jpg', 'gg (448).jpg', 'gg (567).jpg', 'gg (656).jpg', 'gg (720).jpg', 'gg (757).jpg', 'gg (159).jpg', 'gg (699).jpg', 'gg (646).jpg', 'gg (174).jpg', 'gg (81).jpg', 'gg (318).jpg', 'gg (553).jpg', 'gg (714).jpg', 'gg (248).jpg', 'gg (546).jpg', 'gg (41).jpg', 'gg (514).jpg', 'gg (703).jpg', 'gg (172).jpg', 'gg (484).jpg', 'gg (606).jpg', 'gg (268).jpg', 'gg (807).jpg', 'gg (244).jpg', 'gg (694).jpg', 'gg (391).jpg', 'gg (481).jpg', 'gg (578).jpg', 'gg (223).jpg', 'gg (136).jpg', 'gg (242).jpg', 'gg (403).jpg', 'gg (8).jpg', 'gg (161).jpg', 'gg (336).jpg', 'gg (269).jpg', 'gg (369).jpg', 'gg (292).jpg', 'gg (508).jpg', 'gg (16).jpg', 'gg (625).jpg', 'gg (555).jpg', 'gg (584).jpg', 'gg (558).jpg', 'gg (144).jpg', 'gg (331).jpg', 'gg (756).jpg', 'gg (630).jpg', 'gg (770).jpg', 'gg (825).jpg', 'gg (140).jpg', 'gg (323).jpg', 'gg (421).jpg', 'gg (485).jpg', 'gg (534).jpg', 'gg (560).jpg', 'gg (428).jpg', 'gg (246).jpg', 'gg (423).jpg', 'gg (489).jpg', 'gg (776).jpg', 'gg (170).jpg', 'gg (626).jpg', 'gg (390).jpg', 'gg (232).jpg', 'gg (774).jpg', 'gg (326).jpg', 'gg (710).jpg', 'gg (99).jpg', 'gg (718).jpg', 'gg (127).jpg', 'gg (407).jpg', 'gg (470).jpg', 'gg (498).jpg', 'gg (198).jpg', 'gg (574).jpg', 'gg (654).jpg', 'gg (114).jpg', 'gg (354).jpg'], ['m1(112).jpg', 'm (12).jpg', 'm3 (103).jpg', 'm2 (104).jpg', 'm3 (29).jpg', 'm1(141).jpg', 'm2 (115).jpg', 'm1(78).jpg', 'm3 (38).jpg', 'm3 (210).jpg', 'm1(38).jpg', 'm3 (140).jpg', 'm3 (43).jpg', 'm2 (125).jpg', 'm2 (109).jpg', 'm (37).jpg', 'm (184).jpg', 'm (3).jpg', 'm2 (121).jpg', 'm2 (132).jpg', 'm3 (215).jpg', 'm (127).jpg', 'm (106).jpg', 'm2 (123).jpg', 'm (197).jpg', 'm2 (43).jpg', 'm2 (40).jpg', 'm1(196).jpg', 'm (173).jpg', 'm3 (5).jpg', 'm3 (135).jpg', 'm2 (65).jpg', 'm (159).jpg', 'm (180).jpg', 'm (43).jpg', 'm (40).jpg', 'm (107).jpg', 'm1(103).jpg', 'm2 (154).jpg', 'm3 (85).jpg', 'm3 (19).jpg', 'm1(8).jpg', 'm (115).jpg', 'm1(39).jpg', 'm2 (52).jpg', 'm3 (168).jpg', 'm (145).jpg', 'm3 (20).jpg', 'm1(133).jpg', 'm1(77).jpg', 'm3 (182).jpg', 'm (84).jpg', 'm3 (102).jpg', 'm2 (99).jpg', 'm (36).jpg', 'm2 (140).jpg', 'm1(15).jpg', 'm (129).jpg', 'm3 (65).jpg', 'm3 (159).jpg', 'm (5).jpg', 'm (119).jpg', 'm3 (47).jpg', 'm1(79).jpg', 'm (21).jpg', 'm1(87).jpg', 'm (7).jpg', 'm (174).jpg', 'm3 (229).jpg', 'm2 (78).jpg', 'm (102).jpg', 'm3 (48).jpg', 'm (139).jpg', 'm2 (44).jpg', 'm3 (151).jpg', 'm (195).jpg', 'm2 (147).jpg', 'm1(70).jpg', 'm3 (49).jpg', 'm1(165).jpg', 'm3 (58).jpg', 'm1(7).jpg', 'm2 (116).jpg', 'm2 (150).jpg', 'm3 (7).jpg', 'm (76).jpg', 'm3 (50).jpg', 'm1(3).jpg', 'm (20).jpg', 'm3 (184).jpg', 'm (170).jpg', 'm3 (23).jpg', 'm (110).jpg', 'm (112).jpg', 'm3 (145).jpg', 'm1(49).jpg', 'm1(178).jpg', 'm3 (209).jpg', 'm3 (169).jpg', 'm2 (50).jpg', 'm2 (69).jpg', 'm (91).jpg', 'm1(11).jpg', 'm1(188).jpg', 'm (171).jpg', 'm3 (235).jpg', 'm3 (113).jpg', 'm (148).jpg', 'm1(74).jpg', 'm (143).jpg', 'm3 (230).jpg', 'm3 (120).jpg', 'm1(148).jpg', 'm (138).jpg', 'm1(90).jpg', 'm1(6).jpg', 'm2 (48).jpg', 'm (137).jpg', 'm3 (101).jpg', 'm2 (133).jpg', 'm (57).jpg', 'm1(44).jpg', 'm3 (22).jpg', 'm3 (246).jpg', 'm2 (102).jpg', 'm3 (131).jpg', 'm2 (31).jpg', 'm (86).jpg', 'm1(152).jpg', 'm3 (222).jpg', 'm2 (87).jpg', 'm1(121).jpg', 'm (123).jpg', 'm1(155).jpg', 'm3 (35).jpg', 'm2 (81).jpg', 'm1(61).jpg', 'm2 (144).jpg', 'm3 (192).jpg', 'm (98).jpg', 'm1(149).jpg', 'm (158).jpg', 'm1(145).jpg', 'm1(67).jpg', 'm3 (180).jpg', 'm1(120).jpg', 'm2 (114).jpg', 'm1(166).jpg', 'm (26).jpg', 'm3 (154).jpg', 'm1(140).jpg', 'm2 (131).jpg', 'm3 (82).jpg', 'm1(52).jpg', 'm1(54).jpg', 'm (14).jpg', 'm (11).jpg', 'm2 (172).jpg', 'm3 (125).jpg', 'm (47).jpg', 'm3 (242).jpg', 'm3 (99).jpg', 'm (42).jpg', 'm2 (176).jpg', 'm3 (194).jpg', 'm (176).jpg', 'm2 (5).jpg', 'm (133).jpg', 'm (172).jpg', 'm1(161).jpg', 'm1(51).jpg', 'm1(83).jpg', 'm1(144).jpg', 'm3 (225).jpg', 'm3 (147).jpg', 'm (50).jpg', 'm2 (137).jpg', 'm3 (243).jpg', 'm (87).jpg', 'm3 (132).jpg', 'm1(198).jpg', 'm3 (64).jpg', 'm3 (136).jpg', 'm3 (114).jpg', 'm1(9).jpg', 'm (53).jpg', 'm (89).jpg', 'm3 (163).jpg', 'm1(23).jpg', 'm2 (24).jpg', 'm2 (73).jpg', 'm1(129).jpg', 'm (181).jpg', 'm1(183).jpg', 'm2 (167).jpg', 'm1(151).jpg', 'm2 (25).jpg', 'm (161).jpg', 'm (80).jpg', 'm3 (108).jpg', 'm3 (239).jpg', 'm1(71).jpg', 'm (136).jpg', 'm2 (93).jpg', 'm2 (165).jpg', 'm2 (70).jpg', 'm2 (97).jpg', 'm (32).jpg', 'm (59).jpg', 'm (118).jpg', 'm3 (93).jpg', 'm3 (105).jpg', 'm3 (106).jpg', 'm (190).jpg', 'm1(2).jpg', 'm (63).jpg', 'm1(130).jpg', 'm1(99).jpg', 'm2 (20).jpg', 'm1(4).jpg', 'm3 (214).jpg', 'm (124).jpg', 'm (134).jpg', 'm (64).jpg', 'm2 (75).jpg', 'm3 (221).jpg', 'm1(35).jpg', 'm1(43).jpg', 'm3 (62).jpg', 'm (155).jpg', 'm3 (201).jpg', 'm3 (234).jpg', 'm (162).jpg', 'm (61).jpg', 'm (126).jpg', 'm1(19).jpg', 'm2 (10).jpg', 'm1(5).jpg', 'm2 (45).jpg', 'm3 (139).jpg', 'm1(94).jpg', 'm3 (199).jpg', 'm3 (42).jpg', 'm3 (107).jpg', 'm1(82).jpg', 'm1(86).jpg', 'm2 (101).jpg', 'm2 (98).jpg', 'm (199).jpg', 'm3 (18).jpg', 'm3 (13).jpg', 'm (105).jpg', 'm3 (79).jpg', 'm3 (124).jpg', 'm3 (226).jpg', 'm1(65).jpg', 'm1(117).jpg', 'm3 (92).jpg', 'm2 (36).jpg', 'm3 (152).jpg', 'm3 (200).jpg', 'm3 (55).jpg', 'm3 (190).jpg', 'm3 (146).jpg', 'm3 (89).jpg', 'm3 (60).jpg', 'm (146).jpg', 'm1(36).jpg', 'm2 (55).jpg', 'm3 (130).jpg', 'm1(167).jpg', 'm1(143).jpg', 'm (31).jpg', 'm3 (170).jpg', 'm (94).jpg', 'm1(56).jpg', 'm3 (150).jpg', 'm3 (123).jpg', 'm1(131).jpg', 'm1(170).jpg', 'm3 (10).jpg', 'm (93).jpg', 'm (183).jpg', 'm3 (110).jpg', 'm (44).jpg', 'm3 (119).jpg', 'm3 (24).jpg', 'm3 (66).jpg', 'm1(172).jpg', 'm3 (153).jpg', 'm (9).jpg', 'm2 (68).jpg', 'm3 (129).jpg', 'm1(168).jpg', 'm1(60).jpg', 'm1(98).jpg', 'm3 (104).jpg', 'm1(158).jpg', 'm1(93).jpg', 'm3 (233).jpg', 'm1(162).jpg', 'm1(12).jpg', 'm1(137).jpg', 'm (56).jpg', 'm3 (208).jpg', 'm (73).jpg', 'm2 (138).jpg', 'm (96).jpg', 'm (92).jpg', 'm2 (96).jpg', 'm3 (185).jpg', 'm3 (76).jpg', 'm2 (129).jpg', 'm3 (238).jpg', 'm3 (32).jpg', 'm2 (19).jpg', 'm1(75).jpg', 'm (111).jpg', 'm1(42).jpg', 'm2 (89).jpg', 'm1(47).jpg', 'm3 (179).jpg', 'm2 (38).jpg', 'm (51).jpg', 'm3 (28).jpg', 'm3 (156).jpg', 'm3 (21).jpg', 'm2 (127).jpg', 'm1(33).jpg', 'm2 (23).jpg', 'm3 (224).jpg', 'm (188).jpg', 'm1(200).jpg', 'm (88).jpg', 'm (157).jpg', 'm3 (46).jpg', 'm (82).jpg', 'm2 (168).jpg', 'm (66).jpg', 'm2 (159).jpg', 'm (48).jpg', 'm2 (177).jpg', 'm3 (166).jpg', 'm3 (100).jpg', 'm2 (117).jpg', 'm1(177).jpg', 'm2 (6).jpg', 'm (140).jpg', 'm2 (15).jpg', 'm3 (228).jpg', 'm1(64).jpg', 'm (101).jpg', 'm1(194).jpg', 'm2 (153).jpg', 'm1(76).jpg', 'm (193).jpg', 'm2 (158).jpg', 'm1(113).jpg', 'm (117).jpg', 'm (156).jpg', 'm1(73).jpg', 'm2 (152).jpg', 'm3 (75).jpg', 'm (85).jpg', 'm1(163).jpg', 'm1(57).jpg', 'm1(85).jpg', 'm2 (83).jpg', 'm2 (79).jpg', 'm (54).jpg', 'm3 (57).jpg', 'm2 (160).jpg', 'm1(69).jpg', 'm2 (57).jpg', 'm3 (138).jpg', 'm2 (113).jpg', 'm2 (120).jpg', 'm (153).jpg', 'm (150).jpg', 'm (131).jpg', 'm2 (112).jpg', 'm3 (128).jpg', 'm1(28).jpg', 'm1(169).jpg', 'm2 (110).jpg', 'm2 (8).jpg', 'm2 (126).jpg', 'm1(53).jpg', 'm (194).jpg', 'm3 (143).jpg', 'm2 (149).jpg', 'm2 (62).jpg', 'm2 (80).jpg', 'm3 (172).jpg', 'm3 (211).jpg', 'm3 (157).jpg', 'm1(132).jpg', 'm3 (244).jpg', 'm (95).jpg', 'm (168).jpg', 'm1(127).jpg', 'm2 (30).jpg', 'm3 (71).jpg', 'm (179).jpg', 'm3 (142).jpg', 'm (17).jpg', 'm (41).jpg', 'm3 (52).jpg', 'm2 (63).jpg', 'm (99).jpg', 'm2 (37).jpg', 'm (149).jpg', 'm3 (223).jpg', 'm (178).jpg', 'm3 (220).jpg', 'm1(17).jpg', 'm3 (212).jpg', 'm (198).jpg', 'm (38).jpg', 'm (130).jpg', 'm3 (3).jpg', 'm1(63).jpg', 'm3 (127).jpg', 'm1(123).jpg', 'm3 (84).jpg', 'm (182).jpg', 'm (121).jpg', 'm1(122).jpg', 'm (152).jpg', 'm1(105).jpg', 'm3 (68).jpg', 'm (142).jpg', 'm1(153).jpg', 'm1(45).jpg', 'm (28).jpg', 'm3 (240).jpg', 'm2 (61).jpg', 'm2 (82).jpg', 'm2 (130).jpg', 'm1(55).jpg', 'm1(101).jpg', 'm2 (103).jpg', 'm (58).jpg', 'm (15).jpg', 'm1(95).jpg', 'm (116).jpg', 'm1(189).jpg', 'm2 (85).jpg', 'm3 (193).jpg', 'm (189).jpg', 'm2 (88).jpg', 'm (74).jpg', 'm (135).jpg', 'm1(147).jpg', 'm3 (56).jpg', 'm2 (136).jpg', 'm (13).jpg', 'm1(59).jpg', 'm1(193).jpg', 'm1(104).jpg', 'm2 (67).jpg', 'm2 (21).jpg', 'm3 (118).jpg', 'm1(25).jpg', 'm1(202).jpg', 'm1(179).jpg', 'm (192).jpg', 'm1(108).jpg', 'm3 (165).jpg', 'm2 (166).jpg', 'm3 (14).jpg', 'm3 (197).jpg', 'm3 (67).jpg', 'm3 (219).jpg', 'm2 (141).jpg', 'm2 (22).jpg', 'm2 (64).jpg', 'm2 (11).jpg', 'm3 (90).jpg', 'm1(156).jpg', 'm3 (30).jpg', 'm3 (81).jpg', 'm (16).jpg', 'm3 (112).jpg', 'm1(139).jpg', 'm1(24).jpg', 'm1(107).jpg', 'm (52).jpg', 'm1(175).jpg', 'm3 (174).jpg', 'm2 (7).jpg', 'm2 (128).jpg', 'm2 (39).jpg', 'm3 (164).jpg', 'm2 (32).jpg', 'm3 (53).jpg', 'm2 (71).jpg', 'm3 (61).jpg', 'm1(154).jpg', 'm2 (94).jpg', 'm2 (1).jpg', 'm3 (189).jpg', 'm3 (6).jpg', 'm2 (13).jpg', 'm3 (88).jpg', 'm2 (28).jpg', 'm1(118).jpg', 'm2 (47).jpg', 'm2 (56).jpg', 'm (35).jpg', 'm3 (1).jpg', 'm1(41).jpg', 'm3 (206).jpg', 'm2 (59).jpg', 'm (201).jpg', 'm2 (135).jpg', 'm (68).jpg', 'm3 (231).jpg', 'm (90).jpg', 'm3 (31).jpg', 'm3 (158).jpg', 'm (69).jpg', 'm (164).jpg', 'm1(134).jpg', 'm (83).jpg', 'm1(106).jpg', 'm2 (157).jpg', 'm (45).jpg', 'm1(96).jpg', 'm3 (191).jpg', 'm3 (213).jpg', 'm1(128).jpg', 'm3 (216).jpg', 'm (109).jpg', 'm3 (98).jpg', 'm2 (156).jpg', 'm2 (49).jpg', 'm (154).jpg', 'm (24).jpg', 'm2 (169).jpg', 'm (75).jpg', 'm3 (133).jpg', 'm3 (40).jpg', 'm3 (175).jpg', 'm (39).jpg', 'm3 (91).jpg', 'm2 (163).jpg', 'm (120).jpg', 'm1(81).jpg', 'm3 (160).jpg', 'm1(174).jpg', 'm3 (69).jpg', 'm3 (236).jpg', 'm1(50).jpg', 'm (71).jpg', 'm1(91).jpg', 'm2 (124).jpg', 'm (147).jpg', 'm3 (78).jpg', 'm3 (45).jpg', 'm2 (53).jpg', 'm (8).jpg', 'm (25).jpg', 'm1(102).jpg', 'm1(18).jpg', 'm3 (94).jpg', 'm2 (60).jpg', 'm (151).jpg', 'm3 (173).jpg', 'm3 (141).jpg', 'm3 (59).jpg', 'm2 (95).jpg', 'm3 (148).jpg', 'm (29).jpg', 'm3 (63).jpg', 'm (97).jpg', 'm1(58).jpg', 'm (103).jpg', 'm (163).jpg', 'm (196).jpg', 'm2 (27).jpg', 'm3 (186).jpg', 'm2 (146).jpg', 'm2 (175).jpg', 'm1(197).jpg', 'm1(199).jpg', 'm1(80).jpg', 'm2 (145).jpg', 'm3 (155).jpg', 'm3 (8).jpg', 'm (10).jpg', 'm (100).jpg', 'm1(186).jpg', 'm3 (198).jpg', 'm (175).jpg', 'm2 (100).jpg', 'm1(119).jpg', 'm1(21).jpg', 'm1(62).jpg', 'm3 (237).jpg', 'm (78).jpg', 'm (187).jpg', 'm2 (105).jpg', 'm3 (15).jpg', 'm2 (51).jpg', 'm2 (2).jpg', 'm1(100).jpg', 'm1(109).jpg', 'm3 (74).jpg', 'm3 (162).jpg', 'm1(97).jpg', 'm1(135).jpg', 'm1(201).jpg', 'm3 (17).jpg', 'm3 (203).jpg', 'm2 (143).jpg', 'm2 (170).jpg', 'm (33).jpg', 'm3 (181).jpg', 'm2 (134).jpg', 'm (169).jpg', 'm2 (46).jpg', 'm3 (12).jpg', 'm3 (195).jpg', 'm3 (232).jpg', 'm (177).jpg', 'm (113).jpg', 'm (49).jpg', 'm3 (188).jpg', 'm3 (25).jpg', 'm2 (162).jpg', 'm1(176).jpg', 'm3 (247).jpg', 'm1(157).jpg', 'm3 (126).jpg', 'm2 (42).jpg', 'm1(191).jpg', 'm1(136).jpg', 'm (55).jpg', 'm (132).jpg', 'm3 (183).jpg', 'm1(126).jpg', 'm3 (245).jpg', 'm2 (92).jpg', 'm2 (77).jpg', 'm2 (72).jpg', 'm (2).jpg', 'm1(195).jpg', 'm (125).jpg', 'm3 (134).jpg', 'm2 (3).jpg', 'm3 (122).jpg', 'm (46).jpg', 'm1(184).jpg', 'm1(30).jpg', 'm3 (167).jpg', 'm3 (77).jpg', 'm1(68).jpg', 'm3 (217).jpg', 'm1(180).jpg', 'm (27).jpg', 'm3 (4).jpg', 'm3 (70).jpg', 'm3 (51).jpg', 'm3 (121).jpg', 'm3 (87).jpg', 'm3 (204).jpg', 'm1(34).jpg', 'm1(10).jpg', 'm (185).jpg', 'm1(181).jpg', 'm2 (164).jpg', 'm (62).jpg', 'm2 (148).jpg', 'm1(124).jpg', 'm2 (33).jpg', 'm2 (66).jpg', 'm (34).jpg', 'm3 (33).jpg', 'm2 (106).jpg', 'm2 (14).jpg', 'm3 (11).jpg', 'm (79).jpg', 'm (18).jpg', 'm1(190).jpg', 'm (4).jpg', 'm2 (108).jpg', 'm2 (84).jpg', 'm (104).jpg', 'm1(27).jpg', 'm1(142).jpg', 'm2 (9).jpg', 'm1(110).jpg', 'm1(32).jpg', 'm (67).jpg', 'm1(125).jpg', 'm3 (37).jpg', 'm (81).jpg', 'm3 (26).jpg', 'm (70).jpg', 'm (200).jpg', 'm3 (161).jpg', 'm1(88).jpg', 'm3 (36).jpg', 'm (77).jpg', 'm2 (18).jpg', 'm3 (178).jpg', 'm3 (44).jpg', 'm3 (27).jpg', 'm1(84).jpg', 'm1(92).jpg', 'm3 (176).jpg', 'm2 (107).jpg', 'm2 (58).jpg', 'm1(185).jpg', 'm3 (39).jpg', 'm3 (116).jpg', 'm2 (29).jpg', 'm2 (155).jpg', 'm1(114).jpg', 'm1(111).jpg', 'm2 (41).jpg', 'm (114).jpg', 'm3 (177).jpg', 'm (30).jpg', 'm2 (26).jpg', 'm1(89).jpg', 'm2 (171).jpg', 'm3 (9).jpg', 'm1(31).jpg', 'm3 (109).jpg', 'm1(29).jpg', 'm3 (149).jpg', 'm1(22).jpg', 'm2 (12).jpg', 'm1(187).jpg', 'm2 (86).jpg', 'm (165).jpg', 'm1(13).jpg', 'm3 (34).jpg', 'm1(146).jpg', 'm3 (227).jpg', 'm (108).jpg', 'm1(48).jpg', 'm2 (122).jpg', 'm3 (202).jpg', 'm (128).jpg', 'm1(20).jpg', 'm (122).jpg', 'm1(66).jpg', 'm3 (117).jpg', 'm2 (74).jpg', 'm3 (96).jpg', 'm (65).jpg', 'm1(160).jpg', 'm2 (4).jpg', 'm1(37).jpg', 'm (60).jpg', 'm1(182).jpg', 'm (141).jpg', 'm2 (90).jpg', 'm3 (241).jpg', 'm3 (83).jpg', 'm1(150).jpg', 'm3 (137).jpg', 'm3 (2).jpg', 'm3 (86).jpg', 'm3 (111).jpg', 'm (144).jpg', 'm3 (187).jpg', 'm2 (119).jpg', 'm2 (142).jpg', 'm3 (97).jpg', 'm2 (151).jpg', 'm2 (91).jpg', 'm2 (76).jpg', 'm3 (72).jpg', 'm1(14).jpg', 'm1(72).jpg', 'm1(40).jpg', 'm (19).jpg', 'm2 (161).jpg', 'm3 (171).jpg', 'm (23).jpg', 'm (160).jpg', 'm3 (196).jpg', 'm3 (80).jpg', 'm (6).jpg', 'm2 (35).jpg', 'm1(116).jpg', 'm1(138).jpg', 'm1(171).jpg', 'm1(16).jpg', 'm1(26).jpg', 'm2 (174).jpg', 'm2 (111).jpg', 'm (22).jpg', 'm2 (16).jpg', 'm3 (115).jpg', 'm3 (95).jpg', 'm2 (17).jpg', 'm1(46).jpg', 'm2 (139).jpg', 'm2 (34).jpg', 'm3 (205).jpg', 'm2 (54).jpg', 'm (167).jpg', 'm3 (41).jpg', 'm1(192).jpg', 'm2 (173).jpg', 'm (186).jpg', 'm1(159).jpg', 'm2 (118).jpg', 'm (72).jpg', 'm (166).jpg', 'm3 (73).jpg', 'm3 (207).jpg', 'm3 (16).jpg', 'm3 (218).jpg', 'm3 (54).jpg', 'm (191).jpg', 'm1(173).jpg'], ['p (202).jpg', 'p (691).jpg', 'p (785).jpg', 'p (294).jpg', 'p (528).jpg', 'p (131).jpg', 'p (714).jpg', 'p (20).jpg', 'p (39).jpg', 'p (684).jpg', 'p (693).jpg', 'p (519).jpg', 'p (778).jpg', 'p (46).jpg', 'p (498).jpg', 'p (166).jpg', 'p (716).jpg', 'p (122).jpg', 'p (206).jpg', 'p (711).jpg', 'p (130).jpg', 'p (598).jpg', 'p (148).jpg', 'p (391).jpg', 'p (134).jpg', 'p (28).jpg', 'p (638).jpg', 'p (574).jpg', 'p (708).jpg', 'p (447).jpg', 'p (95).jpg', 'p (83).jpg', 'p (660).jpg', 'p (421).jpg', 'p (150).jpg', 'p (286).jpg', 'p (386).jpg', 'p (41).jpg', 'p (826).jpg', 'p (740).jpg', 'p (582).jpg', 'p (343).jpg', 'p (65).jpg', 'p (116).jpg', 'p (31).jpg', 'p (347).jpg', 'p (445).jpg', 'p (537).jpg', 'p (70).jpg', 'p (117).jpg', 'p (352).jpg', 'p (5).jpg', 'p (771).jpg', 'p (376).jpg', 'p (681).jpg', 'p (586).jpg', 'p (302).jpg', 'p (503).jpg', 'p (375).jpg', 'p (331).jpg', 'p (595).jpg', 'p (492).jpg', 'p (489).jpg', 'p (58).jpg', 'p (572).jpg', 'p (418).jpg', 'p (646).jpg', 'p (799).jpg', 'p (289).jpg', 'p (633).jpg', 'p (193).jpg', 'p (513).jpg', 'p (607).jpg', 'p (98).jpg', 'p (174).jpg', 'p (387).jpg', 'p (502).jpg', 'p (45).jpg', 'p (535).jpg', 'p (534).jpg', 'p (555).jpg', 'p (218).jpg', 'p (815).jpg', 'p (448).jpg', 'p (287).jpg', 'p (656).jpg', 'p (261).jpg', 'p (357).jpg', 'p (717).jpg', 'p (107).jpg', 'p (35).jpg', 'p (3).jpg', 'p (521).jpg', 'p (775).jpg', 'p (479).jpg', 'p (73).jpg', 'p (768).jpg', 'p (271).jpg', 'p (604).jpg', 'p (77).jpg', 'p (238).jpg', 'p (556).jpg', 'p (66).jpg', 'p (312).jpg', 'p (566).jpg', 'p (252).jpg', 'p (817).jpg', 'p (165).jpg', 'p (578).jpg', 'p (351).jpg', 'p (212).jpg', 'p (639).jpg', 'p (803).jpg', 'p (172).jpg', 'p (156).jpg', 'p (809).jpg', 'p (792).jpg', 'p (7).jpg', 'p (245).jpg', 'p (15).jpg', 'p (476).jpg', 'p (142).jpg', 'p (486).jpg', 'p (755).jpg', 'p (335).jpg', 'p (526).jpg', 'p (760).jpg', 'p (370).jpg', 'p (601).jpg', 'p (413).jpg', 'p (373).jpg', 'p (159).jpg', 'p (9).jpg', 'p (93).jpg', 'p (505).jpg', 'p (133).jpg', 'p (807).jpg', 'p (786).jpg', 'p (551).jpg', 'p (715).jpg', 'p (44).jpg', 'p (239).jpg', 'p (355).jpg', 'p (529).jpg', 'p (493).jpg', 'p (301).jpg', 'p (154).jpg', 'p (222).jpg', 'p (53).jpg', 'p (273).jpg', 'p (664).jpg', 'p (94).jpg', 'p (54).jpg', 'p (284).jpg', 'p (801).jpg', 'p (744).jpg', 'p (138).jpg', 'p (770).jpg', 'p (223).jpg', 'p (547).jpg', 'p (295).jpg', 'p (232).jpg', 'p (17).jpg', 'p (283).jpg', 'p (34).jpg', 'p (342).jpg', 'p (4).jpg', 'p (573).jpg', 'p (739).jpg', 'p (105).jpg', 'p (6).jpg', 'p (426).jpg', 'p (531).jpg', 'p (724).jpg', 'p (617).jpg', 'p (250).jpg', 'p (516).jpg', 'p (811).jpg', 'p (392).jpg', 'p (570).jpg', 'p (242).jpg', 'p (88).jpg', 'p (478).jpg', 'p (339).jpg', 'p (153).jpg', 'p (641).jpg', 'p (16).jpg', 'p (588).jpg', 'p (380).jpg', 'p (208).jpg', 'p (311).jpg', 'p (281).jpg', 'p (249).jpg', 'p (348).jpg', 'p (659).jpg', 'p (774).jpg', 'p (350).jpg', 'p (316).jpg', 'p (552).jpg', 'p (326).jpg', 'p (92).jpg', 'p (313).jpg', 'p (822).jpg', 'p (581).jpg', 'p (338).jpg', 'p (719).jpg', 'p (579).jpg', 'p (79).jpg', 'p (549).jpg', 'p (196).jpg', 'p (272).jpg', 'p (632).jpg', 'p (765).jpg', 'p (307).jpg', 'p (539).jpg', 'p (353).jpg', 'p (423).jpg', 'p (49).jpg', 'p (322).jpg', 'p (495).jpg', 'p (432).jpg', 'p (464).jpg', 'p (612).jpg', 'p (730).jpg', 'p (36).jpg', 'p (650).jpg', 'p (463).jpg', 'p (374).jpg', 'p (424).jpg', 'p (299).jpg', 'p (115).jpg', 'p (247).jpg', 'p (359).jpg', 'p (383).jpg', 'p (75).jpg', 'p (213).jpg', 'p (501).jpg', 'p (265).jpg', 'p (631).jpg', 'p (751).jpg', 'p (568).jpg', 'p (530).jpg', 'p (793).jpg', 'p (240).jpg', 'p (304).jpg', 'p (453).jpg', 'p (642).jpg', 'p (108).jpg', 'p (321).jpg', 'p (546).jpg', 'p (268).jpg', 'p (439).jpg', 'p (668).jpg', 'p (197).jpg', 'p (788).jpg', 'p (416).jpg', 'p (332).jpg', 'p (602).jpg', 'p (808).jpg', 'p (72).jpg', 'p (221).jpg', 'p (609).jpg', 'p (329).jpg', 'p (454).jpg', 'p (662).jpg', 'p (794).jpg', 'p (596).jpg', 'p (773).jpg', 'p (48).jpg', 'p (781).jpg', 'p (320).jpg', 'p (43).jpg', 'p (204).jpg', 'p (354).jpg', 'p (488).jpg', 'p (215).jpg', 'p (600).jpg', 'p (67).jpg', 'p (280).jpg', 'p (813).jpg', 'p (285).jpg', 'p (274).jpg', 'p (733).jpg', 'p (323).jpg', 'p (349).jpg', 'p (748).jpg', 'p (303).jpg', 'p (787).jpg', 'p (434).jpg', 'p (585).jpg', 'p (100).jpg', 'p (87).jpg', 'p (527).jpg', 'p (101).jpg', 'p (414).jpg', 'p (819).jpg', 'p (663).jpg', 'p (369).jpg', 'p (753).jpg', 'p (802).jpg', 'p (594).jpg', 'p (13).jpg', 'p (626).jpg', 'p (469).jpg', 'p (623).jpg', 'p (509).jpg', 'p (241).jpg', 'p (99).jpg', 'p (254).jpg', 'p (207).jpg', 'p (506).jpg', 'p (608).jpg', 'p (264).jpg', 'p (667).jpg', 'p (634).jpg', 'p (310).jpg', 'p (576).jpg', 'p (721).jpg', 'p (654).jpg', 'p (764).jpg', 'p (756).jpg', 'p (485).jpg', 'p (754).jpg', 'p (665).jpg', 'p (783).jpg', 'p (762).jpg', 'p (481).jpg', 'p (542).jpg', 'p (606).jpg', 'p (419).jpg', 'p (407).jpg', 'p (619).jpg', 'p (47).jpg', 'p (674).jpg', 'p (210).jpg', 'p (40).jpg', 'p (824).jpg', 'p (561).jpg', 'p (560).jpg', 'p (796).jpg', 'p (456).jpg', 'p (540).jpg', 'p (38).jpg', 'p (346).jpg', 'p (580).jpg', 'p (729).jpg', 'p (243).jpg', 'p (51).jpg', 'p (403).jpg', 'p (745).jpg', 'p (767).jpg', 'p (532).jpg', 'p (636).jpg', 'p (185).jpg', 'p (644).jpg', 'p (525).jpg', 'p (200).jpg', 'p (220).jpg', 'p (511).jpg', 'p (544).jpg', 'p (62).jpg', 'p (315).jpg', 'p (396).jpg', 'p (648).jpg', 'p (587).jpg', 'p (699).jpg', 'p (772).jpg', 'p (597).jpg', 'p (821).jpg', 'p (248).jpg', 'p (451).jpg', 'p (96).jpg', 'p (738).jpg', 'p (176).jpg', 'p (1).jpg', 'p (314).jpg', 'p (805).jpg', 'p (191).jpg', 'p (637).jpg', 'p (140).jpg', 'p (236).jpg', 'p (431).jpg', 'p (550).jpg', 'p (260).jpg', 'p (144).jpg', 'p (228).jpg', 'p (557).jpg', 'p (270).jpg', 'p (517).jpg', 'p (405).jpg', 'p (61).jpg', 'p (114).jpg', 'p (368).jpg', 'p (825).jpg', 'p (508).jpg', 'p (211).jpg', 'p (690).jpg', 'p (291).jpg', 'p (624).jpg', 'p (653).jpg', 'p (477).jpg', 'p (86).jpg', 'p (583).jpg', 'p (685).jpg', 'p (427).jpg', 'p (21).jpg', 'p (652).jpg', 'p (605).jpg', 'p (146).jpg', 'p (365).jpg', 'p (129).jpg', 'p (120).jpg', 'p (420).jpg', 'p (337).jpg', 'p (327).jpg', 'p (818).jpg', 'p (645).jpg', 'p (377).jpg', 'p (435).jpg', 'p (267).jpg', 'p (411).jpg', 'p (441).jpg', 'p (437).jpg', 'p (364).jpg', 'p (483).jpg', 'p (68).jpg', 'p (599).jpg', 'p (707).jpg', 'p (84).jpg', 'p (81).jpg', 'p (225).jpg', 'p (812).jpg', 'p (257).jpg', 'p (235).jpg', 'p (682).jpg', 'p (723).jpg', 'p (680).jpg', 'p (763).jpg', 'p (171).jpg', 'p (104).jpg', 'p (22).jpg', 'p (149).jpg', 'p (385).jpg', 'p (689).jpg', 'p (820).jpg', 'p (378).jpg', 'p (214).jpg', 'p (255).jpg', 'p (554).jpg', 'p (671).jpg', 'p (336).jpg', 'p (575).jpg', 'p (362).jpg', 'p (330).jpg', 'p (629).jpg', 'p (675).jpg', 'p (217).jpg', 'p (698).jpg', 'p (780).jpg', 'p (611).jpg', 'p (541).jpg', 'p (384).jpg', 'p (266).jpg', 'p (750).jpg', 'p (649).jpg', 'p (718).jpg', 'p (490).jpg', 'p (216).jpg', 'p (152).jpg', 'p (173).jpg', 'p (309).jpg', 'p (33).jpg', 'p (467).jpg', 'p (692).jpg', 'p (504).jpg', 'p (237).jpg', 'p (406).jpg', 'p (305).jpg', 'p (89).jpg', 'p (458).jpg', 'p (278).jpg', 'p (345).jpg', 'p (412).jpg', 'p (308).jpg', 'p (233).jpg', 'p (614).jpg', 'p (111).jpg', 'p (514).jpg', 'p (85).jpg', 'p (14).jpg', 'p (127).jpg', 'p (300).jpg', 'p (440).jpg', 'p (618).jpg', 'p (325).jpg', 'p (800).jpg', 'p (790).jpg', 'p (523).jpg', 'p (361).jpg', 'p (446).jpg', 'p (27).jpg', 'p (590).jpg', 'p (615).jpg', 'p (110).jpg', 'p (282).jpg', 'p (23).jpg', 'p (795).jpg', 'p (563).jpg', 'p (761).jpg', 'p (428).jpg', 'p (394).jpg', 'p (548).jpg', 'p (782).jpg', 'p (592).jpg', 'p (471).jpg', 'p (635).jpg', 'p (143).jpg', 'p (25).jpg', 'p (10).jpg', 'p (192).jpg', 'p (798).jpg', 'p (779).jpg', 'p (59).jpg', 'p (616).jpg', 'p (683).jpg', 'p (457).jpg', 'p (183).jpg', 'p (125).jpg', 'p (367).jpg', 'p (401).jpg', 'p (415).jpg', 'p (190).jpg', 'p (227).jpg', 'p (522).jpg', 'p (259).jpg', 'p (188).jpg', 'p (393).jpg', 'p (429).jpg', 'p (381).jpg', 'p (205).jpg', 'p (827).jpg', 'p (470).jpg', 'p (157).jpg', 'p (533).jpg', 'p (226).jpg', 'p (630).jpg', 'p (658).jpg', 'p (363).jpg', 'p (319).jpg', 'p (696).jpg', 'p (398).jpg', 'p (358).jpg', 'p (382).jpg', 'p (784).jpg', 'p (102).jpg', 'p (209).jpg', 'p (442).jpg', 'p (562).jpg', 'p (791).jpg', 'p (74).jpg', 'p (50).jpg', 'p (564).jpg', 'p (164).jpg', 'p (734).jpg', 'p (593).jpg', 'p (230).jpg', 'p (64).jpg', 'p (2).jpg', 'p (543).jpg', 'p (725).jpg', 'p (758).jpg', 'p (169).jpg', 'p (306).jpg', 'p (577).jpg', 'p (499).jpg', 'p (175).jpg', 'p (18).jpg', 'p (37).jpg', 'p (132).jpg', 'p (452).jpg', 'p (42).jpg', 'p (160).jpg', 'p (510).jpg', 'p (701).jpg', 'p (742).jpg', 'p (395).jpg', 'p (743).jpg', 'p (288).jpg', 'p (487).jpg', 'p (29).jpg', 'p (328).jpg', 'p (524).jpg', 'p (253).jpg', 'p (565).jpg', 'p (443).jpg', 'p (462).jpg', 'p (269).jpg', 'p (710).jpg', 'p (26).jpg', 'p (91).jpg', 'p (491).jpg', 'p (500).jpg', 'p (30).jpg', 'p (433).jpg', 'p (713).jpg', 'p (430).jpg', 'p (496).jpg', 'p (640).jpg', 'p (231).jpg', 'p (379).jpg', 'p (697).jpg', 'p (804).jpg', 'p (344).jpg', 'p (275).jpg', 'p (258).jpg', 'p (700).jpg', 'p (472).jpg', 'p (203).jpg', 'p (163).jpg', 'p (219).jpg', 'p (63).jpg', 'p (246).jpg', 'p (647).jpg', 'p (806).jpg', 'p (643).jpg', 'p (276).jpg', 'p (720).jpg', 'p (168).jpg', 'p (666).jpg', 'p (417).jpg', 'p (279).jpg', 'p (571).jpg', 'p (709).jpg', 'p (399).jpg', 'p (341).jpg', 'p (137).jpg', 'p (655).jpg', 'p (553).jpg', 'p (198).jpg', 'p (103).jpg', 'p (480).jpg', 'p (567).jpg', 'p (178).jpg', 'p (482).jpg', 'p (459).jpg', 'p (746).jpg', 'p (263).jpg', 'p (118).jpg', 'p (52).jpg', 'p (189).jpg', 'p (465).jpg', 'p (703).jpg', 'p (676).jpg', 'p (669).jpg', 'p (449).jpg', 'p (8).jpg', 'p (679).jpg', 'p (610).jpg', 'p (704).jpg', 'p (147).jpg', 'p (678).jpg', 'p (124).jpg', 'p (628).jpg', 'p (297).jpg', 'p (80).jpg', 'p (797).jpg', 'p (224).jpg', 'p (591).jpg', 'p (69).jpg', 'p (112).jpg', 'p (621).jpg', 'p (613).jpg', 'p (19).jpg', 'p (620).jpg', 'p (731).jpg', 'p (244).jpg', 'p (497).jpg', 'p (12).jpg', 'p (277).jpg', 'p (136).jpg', 'p (55).jpg', 'p (155).jpg', 'p (371).jpg', 'p (759).jpg', 'p (145).jpg', 'p (397).jpg', 'p (410).jpg', 'p (296).jpg', 'p (484).jpg', 'p (694).jpg', 'p (32).jpg', 'p (735).jpg', 'p (705).jpg', 'p (400).jpg', 'p (450).jpg', 'p (810).jpg', 'p (126).jpg', 'p (57).jpg', 'p (706).jpg', 'p (558).jpg', 'p (187).jpg', 'p (109).jpg', 'p (293).jpg', 'p (686).jpg', 'p (194).jpg', 'p (366).jpg', 'p (559).jpg', 'p (769).jpg', 'p (741).jpg', 'p (712).jpg', 'p (789).jpg', 'p (161).jpg', 'p (695).jpg', 'p (106).jpg', 'p (536).jpg', 'p (736).jpg', 'p (121).jpg', 'p (170).jpg', 'p (123).jpg', 'p (199).jpg', 'p (119).jpg', 'p (702).jpg', 'p (584).jpg', 'p (388).jpg', 'p (372).jpg', 'p (201).jpg', 'p (461).jpg', 'p (292).jpg', 'p (776).jpg', 'p (256).jpg', 'p (569).jpg', 'p (262).jpg', 'p (151).jpg', 'p (627).jpg', 'p (512).jpg', 'p (408).jpg', 'p (360).jpg', 'p (727).jpg', 'p (673).jpg', 'p (726).jpg', 'p (425).jpg', 'p (589).jpg', 'p (390).jpg', 'p (167).jpg', 'p (71).jpg', 'p (651).jpg', 'p (732).jpg', 'p (737).jpg', 'p (177).jpg', 'p (402).jpg', 'p (468).jpg', 'p (474).jpg', 'p (687).jpg', 'p (603).jpg', 'p (251).jpg', 'p (11).jpg', 'p (538).jpg', 'p (422).jpg', 'p (186).jpg', 'p (670).jpg', 'p (661).jpg', 'p (324).jpg', 'p (24).jpg', 'p (290).jpg', 'p (60).jpg', 'p (625).jpg', 'p (518).jpg', 'p (622).jpg', 'p (180).jpg', 'p (181).jpg', 'p (162).jpg', 'p (436).jpg', 'p (466).jpg', 'p (749).jpg', 'p (195).jpg', 'p (56).jpg', 'p (340).jpg', 'p (158).jpg', 'p (82).jpg', 'p (444).jpg', 'p (473).jpg', 'p (141).jpg', 'p (657).jpg', 'p (404).jpg', 'p (438).jpg', 'p (777).jpg', 'p (494).jpg', 'p (515).jpg', 'p (409).jpg', 'p (139).jpg', 'p (722).jpg', 'p (298).jpg', 'p (128).jpg', 'p (747).jpg', 'p (97).jpg', 'p (234).jpg', 'p (507).jpg', 'p (76).jpg', 'p (677).jpg', 'p (78).jpg', 'p (333).jpg', 'p (460).jpg', 'p (90).jpg', 'p (389).jpg', 'p (757).jpg', 'p (182).jpg', 'p (816).jpg', 'p (814).jpg', 'p (317).jpg', 'p (475).jpg', 'p (318).jpg', 'p (545).jpg', 'p (766).jpg', 'p (672).jpg', 'p (520).jpg', 'p (334).jpg', 'p (184).jpg', 'p (135).jpg', 'p (356).jpg', 'p (688).jpg', 'p (823).jpg', 'p (179).jpg', 'p (113).jpg', 'p (455).jpg', 'p (752).jpg', 'p (229).jpg', 'p (728).jpg'], ['image (43).jpg', 'image(306).jpg', 'image(122).jpg', 'image(127).jpg', 'image(91).jpg', 'image(105).jpg', 'image (16).jpg', 'image(82).jpg', 'image (28).jpg', 'image(20).jpg', 'image(178).jpg', 'image(7).jpg', 'image(24).jpg', 'image(219).jpg', 'image(210).jpg', 'image(322).jpg', 'image(295).jpg', 'image (47).jpg', 'image(293).jpg', 'image(289).jpg', 'image(43).jpg', 'image(94).jpg', 'image(194).jpg', 'image(110).jpg', 'image(191).jpg', 'image (40).jpg', 'image(287).jpg', 'image (11).jpg', 'image(229).jpg', 'image(234).jpg', 'image(171).jpg', 'image(129).jpg', 'image(174).jpg', 'image(41).jpg', 'image(259).jpg', 'image(239).jpg', 'image(255).jpg', 'image(13).jpg', 'image(290).jpg', 'image(212).jpg', 'image(163).jpg', 'image(152).jpg', 'image (38).jpg', 'image(258).jpg', 'image(151).jpg', 'image(164).jpg', 'image(5).jpg', 'image(44).jpg', 'image (59).jpg', 'image(18).jpg', 'image(4).jpg', 'image (34).jpg', 'image(221).jpg', 'image(106).jpg', 'image(52).jpg', 'image(265).jpg', 'image(70).jpg', 'image(278).jpg', 'image(102).jpg', 'image(195).jpg', 'image(223).jpg', 'image(272).jpg', 'image(66).jpg', 'image(311).jpg', 'image(313).jpg', 'image(42).jpg', 'image (29).jpg', 'image(286).jpg', 'image(177).jpg', 'image (23).jpg', 'image(320).jpg', 'image (42).jpg', 'image(48).jpg', 'image(2).jpg', 'image(176).jpg', 'image(130).jpg', 'image (9).jpg', 'image(112).jpg', 'image(213).jpg', 'image(135).jpg', 'image(89).jpg', 'image(250).jpg', 'image(175).jpg', 'image(327).jpg', 'image(207).jpg', 'image(141).jpg', 'image (55).jpg', 'image(142).jpg', 'image(261).jpg', 'image(155).jpg', 'image(69).jpg', 'image(201).jpg', 'image(319).jpg', 'image(126).jpg', 'image(280).jpg', 'image(116).jpg', 'image (21).jpg', 'image(242).jpg', 'image (64).jpg', 'image (7).jpg', 'image (8).jpg', 'image (52).jpg', 'image(27).jpg', 'image(197).jpg', '8.jpg', 'image(233).jpg', 'image (22).jpg', 'image(53).jpg', 'image(149).jpg', 'image(198).jpg', 'image(183).jpg', 'image(21).jpg', 'image(211).jpg', 'image(209).jpg', 'image(6).jpg', 'image(254).jpg', 'image (35).jpg', 'image(83).jpg', 'image(247).jpg', 'image(216).jpg', 'image(291).jpg', 'image(10).jpg', 'image(108).jpg', 'image(119).jpg', 'image(193).jpg', 'image (56).jpg', 'image(227).jpg', 'image(160).jpg', 'image(224).jpg', 'image(131).jpg', 'image(34).jpg', 'image(186).jpg', 'image(285).jpg', 'image(312).jpg', 'image(86).jpg', 'image(273).jpg', 'image(217).jpg', 'image(208).jpg', 'image(271).jpg', 'image(55).jpg', 'image(260).jpg', 'image(246).jpg', 'image(248).jpg', 'image(61).jpg', 'image(199).jpg', 'image(267).jpg', '5.jpg', 'image(12).jpg', 'image(304).jpg', 'image(45).jpg', 'image(98).jpg', 'image(325).jpg', 'image(302).jpg', 'image(231).jpg', 'image(162).jpg', 'image(19).jpg', 'image (18).jpg', 'image(180).jpg', 'image(305).jpg', 'image(74).jpg', 'image(228).jpg', 'image(54).jpg', 'image (44).jpg', 'image (25).jpg', 'image(84).jpg', 'image(104).jpg', 'image(77).jpg', 'image(184).jpg', 'image(80).jpg', 'image(26).jpg', 'image(37).jpg', 'image(51).jpg', 'image(137).jpg', 'image(317).jpg', 'image(138).jpg', 'image(107).jpg', 'image(146).jpg', 'image(169).jpg', 'image(133).jpg', 'image(30).jpg', 'image(203).jpg', 'image(65).jpg', 'image (36).jpg', 'image (53).jpg', 'image(294).jpg', 'image(220).jpg', 'image (49).jpg', 'image(134).jpg', 'image (54).jpg', 'image(315).jpg', 'image(281).jpg', 'image(63).jpg', 'image(226).jpg', 'image(145).jpg', 'image (57).jpg', 'image(222).jpg', 'image(301).jpg', 'image(140).jpg', 'image(103).jpg', 'image (19).jpg', 'image(263).jpg', 'image(118).jpg', 'image(114).jpg', 'image(170).jpg', 'image(123).jpg', 'image (6).jpg', 'image (62).jpg', 'image(38).jpg', 'image(279).jpg', 'image(264).jpg', 'image(87).jpg', 'image (4).jpg', 'image(29).jpg', 'image (48).jpg', 'image(32).jpg', 'image(308).jpg', 'image(59).jpg', 'image(165).jpg', 'image(14).jpg', 'image(1).jpg', 'image(283).jpg', 'image(23).jpg', 'image(33).jpg', 'image(25).jpg', 'image (5).jpg', 'image(307).jpg', 'image (33).jpg', 'image(68).jpg', 'image(67).jpg', 'image(22).jpg', 'image(40).jpg', 'image(324).jpg', 'image(99).jpg', 'image(232).jpg', 'image(284).jpg', 'image(241).jpg', 'image (63).jpg', 'image(204).jpg', 'image (37).jpg', 'image(158).jpg', 'image(200).jpg', 'image (61).jpg', 'image(17).jpg', 'image(153).jpg', '6.jpg', 'image(96).jpg', 'image(215).jpg', 'image(35).jpg', 'image(143).jpg', 'image(58).jpg', 'image (27).jpg', 'image (26).jpg', 'image(100).jpg', 'image(11).jpg', 'image (58).jpg', 'image(182).jpg', 'image(282).jpg', 'image(124).jpg', 'image(101).jpg', 'image(139).jpg', 'image(252).jpg', 'image(297).jpg', 'image(303).jpg', 'image(276).jpg', 'image(274).jpg', 'image(92).jpg', 'image (39).jpg', 'image(300).jpg', 'image (14).jpg', 'image(50).jpg', 'image(323).jpg', 'image(179).jpg', 'image(81).jpg', 'image(214).jpg', 'image(321).jpg', 'image(168).jpg', 'image(192).jpg', 'image(39).jpg', 'image (12).jpg', 'image(88).jpg', '4.jpg', 'image (31).jpg', 'image(147).jpg', 'image (50).jpg', 'image(270).jpg', 'image(240).jpg', 'image(310).jpg', 'image(299).jpg', 'image(190).jpg', 'image(288).jpg', 'image (10).jpg', 'image(316).jpg', 'image(257).jpg', 'image(262).jpg', 'image(236).jpg', 'image(266).jpg', 'image (46).jpg', 'image(46).jpg', 'image(93).jpg', 'image(251).jpg', '3.jpg', 'image(79).jpg', 'image(113).jpg', 'image (20).jpg', 'image(85).jpg', '7.jpg', 'image(144).jpg', 'image(9).jpg', 'image(95).jpg', 'image (24).jpg', 'image(64).jpg', 'image(15).jpg', 'image(256).jpg', 'image(8).jpg', '2.jpg', 'image(60).jpg', 'image(237).jpg', 'image(125).jpg', 'image(156).jpg', 'image(225).jpg', 'image(230).jpg', 'image(161).jpg', 'image(243).jpg', 'image(115).jpg', 'image(159).jpg', 'image(292).jpg', 'image(136).jpg', 'image(277).jpg', 'image.jpg', 'image(28).jpg', 'image(76).jpg', 'image(90).jpg', 'image(188).jpg', 'image(205).jpg', 'image(249).jpg', 'image(206).jpg', 'image(189).jpg', 'image(57).jpg', 'image(132).jpg', 'image(31).jpg', '1.jpg', 'image(309).jpg', 'image(73).jpg', 'image (30).jpg', 'image(235).jpg', 'image (15).jpg', 'image(47).jpg', 'image(172).jpg', 'image(196).jpg', 'image(244).jpg', 'image(36).jpg', 'image(238).jpg', 'image(71).jpg', 'image(218).jpg', 'image(202).jpg', 'image (32).jpg', 'image(157).jpg', 'image(269).jpg', 'image(128).jpg', 'image (60).jpg', 'image(56).jpg', 'image(148).jpg', 'image(185).jpg', 'image(150).jpg', 'image(62).jpg', 'image(154).jpg', 'image(111).jpg', 'image(326).jpg', 'image(253).jpg', 'image(117).jpg', 'image(268).jpg', 'image(166).jpg', 'image(296).jpg', 'image (45).jpg', 'image(275).jpg', 'image(167).jpg', 'image(318).jpg', 'image (51).jpg', 'image(78).jpg', 'image(173).jpg', 'image(181).jpg', 'image(245).jpg', 'image(298).jpg', 'image (13).jpg', 'image(121).jpg', 'image(75).jpg', 'image(314).jpg', 'image(187).jpg', 'image(72).jpg', 'image(3).jpg', 'image(49).jpg', 'image (41).jpg', 'image (17).jpg', 'image(16).jpg', 'image(120).jpg']]\n"
          ],
          "name": "stdout"
        }
      ]
    },
    {
      "cell_type": "code",
      "metadata": {
        "id": "uUfWBElpW8B7",
        "colab": {
          "base_uri": "https://localhost:8080/"
        },
        "outputId": "3997452c-a1e8-4b4d-fc6f-19af6949c85c"
      },
      "source": [
        "clas=[]\n",
        "n=[]\n",
        "for i in range(0,len(k)):\n",
        "   for j in range(0,len(k[i])):\n",
        "     n.append(k[i][j])\n",
        "     im=k[i][j].split(\"(\")[0]\n",
        "     if im == \"gg \":\n",
        "       clas.append(0)\n",
        "     elif im == \"m \" or im==\"m1\" or im==\"m2 \" or im==\"m3 \":\n",
        "        clas.append(1)\n",
        "     elif im == \"p \":\n",
        "        clas.append(2)\n",
        "     else:\n",
        "       clas.append(3)\n",
        "      \n",
        "print(clas)"
      ],
      "execution_count": null,
      "outputs": [
        {
          "output_type": "stream",
          "text": [
            "[0, 0, 0, 0, 0, 0, 0, 0, 0, 0, 0, 0, 0, 0, 0, 0, 0, 0, 0, 0, 0, 0, 0, 0, 0, 0, 0, 0, 0, 0, 0, 0, 0, 0, 0, 0, 0, 0, 0, 0, 0, 0, 0, 0, 0, 0, 0, 0, 0, 0, 0, 0, 0, 0, 0, 0, 0, 0, 0, 0, 0, 0, 0, 0, 0, 0, 0, 0, 0, 0, 0, 0, 0, 0, 0, 0, 0, 0, 0, 0, 0, 0, 0, 0, 0, 0, 0, 0, 0, 0, 0, 0, 0, 0, 0, 0, 0, 0, 0, 0, 0, 0, 0, 0, 0, 0, 0, 0, 0, 0, 0, 0, 0, 0, 0, 0, 0, 0, 0, 0, 0, 0, 0, 0, 0, 0, 0, 0, 0, 0, 0, 0, 0, 0, 0, 0, 0, 0, 0, 0, 0, 0, 0, 0, 0, 0, 0, 0, 0, 0, 0, 0, 0, 0, 0, 0, 0, 0, 0, 0, 0, 0, 0, 0, 0, 0, 0, 0, 0, 0, 0, 0, 0, 0, 0, 0, 0, 0, 0, 0, 0, 0, 0, 0, 0, 0, 0, 0, 0, 0, 0, 0, 0, 0, 0, 0, 0, 0, 0, 0, 0, 0, 0, 0, 0, 0, 0, 0, 0, 0, 0, 0, 0, 0, 0, 0, 0, 0, 0, 0, 0, 0, 0, 0, 0, 0, 0, 0, 0, 0, 0, 0, 0, 0, 0, 0, 0, 0, 0, 0, 0, 0, 0, 0, 0, 0, 0, 0, 0, 0, 0, 0, 0, 0, 0, 0, 0, 0, 0, 0, 0, 0, 0, 0, 0, 0, 0, 0, 0, 0, 0, 0, 0, 0, 0, 0, 0, 0, 0, 0, 0, 0, 0, 0, 0, 0, 0, 0, 0, 0, 0, 0, 0, 0, 0, 0, 0, 0, 0, 0, 0, 0, 0, 0, 0, 0, 0, 0, 0, 0, 0, 0, 0, 0, 0, 0, 0, 0, 0, 0, 0, 0, 0, 0, 0, 0, 0, 0, 0, 0, 0, 0, 0, 0, 0, 0, 0, 0, 0, 0, 0, 0, 0, 0, 0, 0, 0, 0, 0, 0, 0, 0, 0, 0, 0, 0, 0, 0, 0, 0, 0, 0, 0, 0, 0, 0, 0, 0, 0, 0, 0, 0, 0, 0, 0, 0, 0, 0, 0, 0, 0, 0, 0, 0, 0, 0, 0, 0, 0, 0, 0, 0, 0, 0, 0, 0, 0, 0, 0, 0, 0, 0, 0, 0, 0, 0, 0, 0, 0, 0, 0, 0, 0, 0, 0, 0, 0, 0, 0, 0, 0, 0, 0, 0, 0, 0, 0, 0, 0, 0, 0, 0, 0, 0, 0, 0, 0, 0, 0, 0, 0, 0, 0, 0, 0, 0, 0, 0, 0, 0, 0, 0, 0, 0, 0, 0, 0, 0, 0, 0, 0, 0, 0, 0, 0, 0, 0, 0, 0, 0, 0, 0, 0, 0, 0, 0, 0, 0, 0, 0, 0, 0, 0, 0, 0, 0, 0, 0, 0, 0, 0, 0, 0, 0, 0, 0, 0, 0, 0, 0, 0, 0, 0, 0, 0, 0, 0, 0, 0, 0, 0, 0, 0, 0, 0, 0, 0, 0, 0, 0, 0, 0, 0, 0, 0, 0, 0, 0, 0, 0, 0, 0, 0, 0, 0, 0, 0, 0, 0, 0, 0, 0, 0, 0, 0, 0, 0, 0, 0, 0, 0, 0, 0, 0, 0, 0, 0, 0, 0, 0, 0, 0, 0, 0, 0, 0, 0, 0, 0, 0, 0, 0, 0, 0, 0, 0, 0, 0, 0, 0, 0, 0, 0, 0, 0, 0, 0, 0, 0, 0, 0, 0, 0, 0, 0, 0, 0, 0, 0, 0, 0, 0, 0, 0, 0, 0, 0, 0, 0, 0, 0, 0, 0, 0, 0, 0, 0, 0, 0, 0, 0, 0, 0, 0, 0, 0, 0, 0, 0, 0, 0, 0, 0, 0, 0, 0, 0, 0, 0, 0, 0, 0, 0, 0, 0, 0, 0, 0, 0, 0, 0, 0, 0, 0, 0, 0, 0, 0, 0, 0, 0, 0, 0, 0, 0, 0, 0, 0, 0, 0, 0, 0, 0, 0, 0, 0, 0, 0, 0, 0, 0, 0, 0, 0, 0, 0, 0, 0, 0, 0, 0, 0, 0, 0, 0, 0, 0, 0, 0, 0, 0, 0, 0, 0, 0, 0, 0, 0, 0, 0, 0, 0, 0, 0, 0, 0, 0, 0, 0, 0, 0, 0, 0, 0, 0, 0, 0, 0, 0, 0, 0, 0, 0, 0, 0, 0, 0, 0, 0, 0, 0, 0, 0, 0, 0, 0, 0, 0, 0, 0, 0, 0, 0, 0, 0, 0, 0, 0, 0, 0, 0, 0, 0, 0, 0, 0, 0, 0, 0, 0, 0, 0, 0, 0, 0, 0, 0, 0, 0, 0, 0, 0, 0, 0, 0, 0, 0, 0, 0, 0, 0, 0, 0, 0, 0, 0, 0, 0, 0, 0, 0, 0, 0, 0, 0, 0, 0, 0, 0, 0, 0, 0, 0, 0, 0, 0, 0, 0, 0, 0, 0, 0, 0, 0, 0, 0, 1, 1, 1, 1, 1, 1, 1, 1, 1, 1, 1, 1, 1, 1, 1, 1, 1, 1, 1, 1, 1, 1, 1, 1, 1, 1, 1, 1, 1, 1, 1, 1, 1, 1, 1, 1, 1, 1, 1, 1, 1, 1, 1, 1, 1, 1, 1, 1, 1, 1, 1, 1, 1, 1, 1, 1, 1, 1, 1, 1, 1, 1, 1, 1, 1, 1, 1, 1, 1, 1, 1, 1, 1, 1, 1, 1, 1, 1, 1, 1, 1, 1, 1, 1, 1, 1, 1, 1, 1, 1, 1, 1, 1, 1, 1, 1, 1, 1, 1, 1, 1, 1, 1, 1, 1, 1, 1, 1, 1, 1, 1, 1, 1, 1, 1, 1, 1, 1, 1, 1, 1, 1, 1, 1, 1, 1, 1, 1, 1, 1, 1, 1, 1, 1, 1, 1, 1, 1, 1, 1, 1, 1, 1, 1, 1, 1, 1, 1, 1, 1, 1, 1, 1, 1, 1, 1, 1, 1, 1, 1, 1, 1, 1, 1, 1, 1, 1, 1, 1, 1, 1, 1, 1, 1, 1, 1, 1, 1, 1, 1, 1, 1, 1, 1, 1, 1, 1, 1, 1, 1, 1, 1, 1, 1, 1, 1, 1, 1, 1, 1, 1, 1, 1, 1, 1, 1, 1, 1, 1, 1, 1, 1, 1, 1, 1, 1, 1, 1, 1, 1, 1, 1, 1, 1, 1, 1, 1, 1, 1, 1, 1, 1, 1, 1, 1, 1, 1, 1, 1, 1, 1, 1, 1, 1, 1, 1, 1, 1, 1, 1, 1, 1, 1, 1, 1, 1, 1, 1, 1, 1, 1, 1, 1, 1, 1, 1, 1, 1, 1, 1, 1, 1, 1, 1, 1, 1, 1, 1, 1, 1, 1, 1, 1, 1, 1, 1, 1, 1, 1, 1, 1, 1, 1, 1, 1, 1, 1, 1, 1, 1, 1, 1, 1, 1, 1, 1, 1, 1, 1, 1, 1, 1, 1, 1, 1, 1, 1, 1, 1, 1, 1, 1, 1, 1, 1, 1, 1, 1, 1, 1, 1, 1, 1, 1, 1, 1, 1, 1, 1, 1, 1, 1, 1, 1, 1, 1, 1, 1, 1, 1, 1, 1, 1, 1, 1, 1, 1, 1, 1, 1, 1, 1, 1, 1, 1, 1, 1, 1, 1, 1, 1, 1, 1, 1, 1, 1, 1, 1, 1, 1, 1, 1, 1, 1, 1, 1, 1, 1, 1, 1, 1, 1, 1, 1, 1, 1, 1, 1, 1, 1, 1, 1, 1, 1, 1, 1, 1, 1, 1, 1, 1, 1, 1, 1, 1, 1, 1, 1, 1, 1, 1, 1, 1, 1, 1, 1, 1, 1, 1, 1, 1, 1, 1, 1, 1, 1, 1, 1, 1, 1, 1, 1, 1, 1, 1, 1, 1, 1, 1, 1, 1, 1, 1, 1, 1, 1, 1, 1, 1, 1, 1, 1, 1, 1, 1, 1, 1, 1, 1, 1, 1, 1, 1, 1, 1, 1, 1, 1, 1, 1, 1, 1, 1, 1, 1, 1, 1, 1, 1, 1, 1, 1, 1, 1, 1, 1, 1, 1, 1, 1, 1, 1, 1, 1, 1, 1, 1, 1, 1, 1, 1, 1, 1, 1, 1, 1, 1, 1, 1, 1, 1, 1, 1, 1, 1, 1, 1, 1, 1, 1, 1, 1, 1, 1, 1, 1, 1, 1, 1, 1, 1, 1, 1, 1, 1, 1, 1, 1, 1, 1, 1, 1, 1, 1, 1, 1, 1, 1, 1, 1, 1, 1, 1, 1, 1, 1, 1, 1, 1, 1, 1, 1, 1, 1, 1, 1, 1, 1, 1, 1, 1, 1, 1, 1, 1, 1, 1, 1, 1, 1, 1, 1, 1, 1, 1, 1, 1, 1, 1, 1, 1, 1, 1, 1, 1, 1, 1, 1, 1, 1, 1, 1, 1, 1, 1, 1, 1, 1, 1, 1, 1, 1, 1, 1, 1, 1, 1, 1, 1, 1, 1, 1, 1, 1, 1, 1, 1, 1, 1, 1, 1, 1, 1, 1, 1, 1, 1, 1, 1, 1, 1, 1, 1, 1, 1, 1, 1, 1, 1, 1, 1, 1, 1, 1, 1, 1, 1, 1, 1, 1, 1, 1, 1, 1, 1, 1, 1, 1, 1, 1, 1, 1, 1, 1, 1, 1, 1, 1, 1, 1, 1, 1, 1, 1, 1, 1, 1, 1, 1, 1, 1, 1, 1, 1, 1, 1, 1, 1, 1, 1, 1, 1, 1, 1, 1, 1, 1, 1, 1, 1, 1, 1, 1, 1, 1, 1, 1, 1, 1, 1, 1, 1, 1, 1, 1, 1, 1, 1, 1, 1, 1, 1, 1, 1, 1, 1, 1, 1, 1, 1, 1, 1, 1, 1, 1, 1, 1, 1, 1, 1, 1, 1, 1, 1, 1, 1, 1, 1, 1, 1, 1, 1, 1, 1, 1, 1, 1, 1, 1, 1, 1, 1, 1, 1, 1, 1, 1, 1, 1, 1, 1, 1, 1, 1, 1, 1, 1, 1, 1, 1, 1, 1, 1, 1, 1, 1, 1, 1, 1, 1, 1, 1, 1, 1, 1, 1, 1, 1, 1, 1, 1, 1, 2, 2, 2, 2, 2, 2, 2, 2, 2, 2, 2, 2, 2, 2, 2, 2, 2, 2, 2, 2, 2, 2, 2, 2, 2, 2, 2, 2, 2, 2, 2, 2, 2, 2, 2, 2, 2, 2, 2, 2, 2, 2, 2, 2, 2, 2, 2, 2, 2, 2, 2, 2, 2, 2, 2, 2, 2, 2, 2, 2, 2, 2, 2, 2, 2, 2, 2, 2, 2, 2, 2, 2, 2, 2, 2, 2, 2, 2, 2, 2, 2, 2, 2, 2, 2, 2, 2, 2, 2, 2, 2, 2, 2, 2, 2, 2, 2, 2, 2, 2, 2, 2, 2, 2, 2, 2, 2, 2, 2, 2, 2, 2, 2, 2, 2, 2, 2, 2, 2, 2, 2, 2, 2, 2, 2, 2, 2, 2, 2, 2, 2, 2, 2, 2, 2, 2, 2, 2, 2, 2, 2, 2, 2, 2, 2, 2, 2, 2, 2, 2, 2, 2, 2, 2, 2, 2, 2, 2, 2, 2, 2, 2, 2, 2, 2, 2, 2, 2, 2, 2, 2, 2, 2, 2, 2, 2, 2, 2, 2, 2, 2, 2, 2, 2, 2, 2, 2, 2, 2, 2, 2, 2, 2, 2, 2, 2, 2, 2, 2, 2, 2, 2, 2, 2, 2, 2, 2, 2, 2, 2, 2, 2, 2, 2, 2, 2, 2, 2, 2, 2, 2, 2, 2, 2, 2, 2, 2, 2, 2, 2, 2, 2, 2, 2, 2, 2, 2, 2, 2, 2, 2, 2, 2, 2, 2, 2, 2, 2, 2, 2, 2, 2, 2, 2, 2, 2, 2, 2, 2, 2, 2, 2, 2, 2, 2, 2, 2, 2, 2, 2, 2, 2, 2, 2, 2, 2, 2, 2, 2, 2, 2, 2, 2, 2, 2, 2, 2, 2, 2, 2, 2, 2, 2, 2, 2, 2, 2, 2, 2, 2, 2, 2, 2, 2, 2, 2, 2, 2, 2, 2, 2, 2, 2, 2, 2, 2, 2, 2, 2, 2, 2, 2, 2, 2, 2, 2, 2, 2, 2, 2, 2, 2, 2, 2, 2, 2, 2, 2, 2, 2, 2, 2, 2, 2, 2, 2, 2, 2, 2, 2, 2, 2, 2, 2, 2, 2, 2, 2, 2, 2, 2, 2, 2, 2, 2, 2, 2, 2, 2, 2, 2, 2, 2, 2, 2, 2, 2, 2, 2, 2, 2, 2, 2, 2, 2, 2, 2, 2, 2, 2, 2, 2, 2, 2, 2, 2, 2, 2, 2, 2, 2, 2, 2, 2, 2, 2, 2, 2, 2, 2, 2, 2, 2, 2, 2, 2, 2, 2, 2, 2, 2, 2, 2, 2, 2, 2, 2, 2, 2, 2, 2, 2, 2, 2, 2, 2, 2, 2, 2, 2, 2, 2, 2, 2, 2, 2, 2, 2, 2, 2, 2, 2, 2, 2, 2, 2, 2, 2, 2, 2, 2, 2, 2, 2, 2, 2, 2, 2, 2, 2, 2, 2, 2, 2, 2, 2, 2, 2, 2, 2, 2, 2, 2, 2, 2, 2, 2, 2, 2, 2, 2, 2, 2, 2, 2, 2, 2, 2, 2, 2, 2, 2, 2, 2, 2, 2, 2, 2, 2, 2, 2, 2, 2, 2, 2, 2, 2, 2, 2, 2, 2, 2, 2, 2, 2, 2, 2, 2, 2, 2, 2, 2, 2, 2, 2, 2, 2, 2, 2, 2, 2, 2, 2, 2, 2, 2, 2, 2, 2, 2, 2, 2, 2, 2, 2, 2, 2, 2, 2, 2, 2, 2, 2, 2, 2, 2, 2, 2, 2, 2, 2, 2, 2, 2, 2, 2, 2, 2, 2, 2, 2, 2, 2, 2, 2, 2, 2, 2, 2, 2, 2, 2, 2, 2, 2, 2, 2, 2, 2, 2, 2, 2, 2, 2, 2, 2, 2, 2, 2, 2, 2, 2, 2, 2, 2, 2, 2, 2, 2, 2, 2, 2, 2, 2, 2, 2, 2, 2, 2, 2, 2, 2, 2, 2, 2, 2, 2, 2, 2, 2, 2, 2, 2, 2, 2, 2, 2, 2, 2, 2, 2, 2, 2, 2, 2, 2, 2, 2, 2, 2, 2, 2, 2, 2, 2, 2, 2, 2, 2, 2, 2, 2, 2, 2, 2, 2, 2, 2, 2, 2, 2, 2, 2, 2, 2, 2, 2, 2, 2, 2, 2, 2, 2, 2, 2, 2, 2, 2, 2, 2, 2, 2, 2, 2, 2, 2, 2, 2, 2, 2, 2, 2, 2, 2, 2, 2, 2, 2, 2, 2, 2, 2, 2, 2, 2, 2, 2, 2, 2, 2, 2, 2, 2, 2, 2, 2, 2, 2, 2, 2, 2, 2, 2, 2, 2, 2, 2, 2, 2, 2, 2, 2, 2, 2, 2, 2, 2, 2, 2, 2, 2, 2, 2, 2, 2, 2, 2, 2, 2, 2, 2, 2, 2, 2, 2, 2, 2, 2, 2, 2, 2, 2, 2, 2, 2, 2, 2, 2, 2, 2, 2, 2, 2, 2, 2, 2, 2, 2, 2, 2, 2, 2, 2, 2, 2, 2, 2, 2, 2, 2, 2, 2, 2, 2, 2, 2, 2, 2, 2, 2, 2, 2, 2, 2, 2, 2, 2, 3, 3, 3, 3, 3, 3, 3, 3, 3, 3, 3, 3, 3, 3, 3, 3, 3, 3, 3, 3, 3, 3, 3, 3, 3, 3, 3, 3, 3, 3, 3, 3, 3, 3, 3, 3, 3, 3, 3, 3, 3, 3, 3, 3, 3, 3, 3, 3, 3, 3, 3, 3, 3, 3, 3, 3, 3, 3, 3, 3, 3, 3, 3, 3, 3, 3, 3, 3, 3, 3, 3, 3, 3, 3, 3, 3, 3, 3, 3, 3, 3, 3, 3, 3, 3, 3, 3, 3, 3, 3, 3, 3, 3, 3, 3, 3, 3, 3, 3, 3, 3, 3, 3, 3, 3, 3, 3, 3, 3, 3, 3, 3, 3, 3, 3, 3, 3, 3, 3, 3, 3, 3, 3, 3, 3, 3, 3, 3, 3, 3, 3, 3, 3, 3, 3, 3, 3, 3, 3, 3, 3, 3, 3, 3, 3, 3, 3, 3, 3, 3, 3, 3, 3, 3, 3, 3, 3, 3, 3, 3, 3, 3, 3, 3, 3, 3, 3, 3, 3, 3, 3, 3, 3, 3, 3, 3, 3, 3, 3, 3, 3, 3, 3, 3, 3, 3, 3, 3, 3, 3, 3, 3, 3, 3, 3, 3, 3, 3, 3, 3, 3, 3, 3, 3, 3, 3, 3, 3, 3, 3, 3, 3, 3, 3, 3, 3, 3, 3, 3, 3, 3, 3, 3, 3, 3, 3, 3, 3, 3, 3, 3, 3, 3, 3, 3, 3, 3, 3, 3, 3, 3, 3, 3, 3, 3, 3, 3, 3, 3, 3, 3, 3, 3, 3, 3, 3, 3, 3, 3, 3, 3, 3, 3, 3, 3, 3, 3, 3, 3, 3, 3, 3, 3, 3, 3, 3, 3, 3, 3, 3, 3, 3, 3, 3, 3, 3, 3, 3, 3, 3, 3, 3, 3, 3, 3, 3, 3, 3, 3, 3, 3, 3, 3, 3, 3, 3, 3, 3, 3, 3, 3, 3, 3, 3, 3, 3, 3, 3, 3, 3, 3, 3, 3, 3, 3, 3, 3, 3, 3, 3, 3, 3, 3, 3, 3, 3, 3, 3, 3, 3, 3, 3, 3, 3, 3, 3, 3, 3, 3, 3, 3, 3, 3, 3, 3, 3, 3, 3, 3, 3, 3, 3, 3, 3, 3, 3, 3, 3, 3, 3, 3, 3, 3, 3, 3, 3, 3, 3, 3, 3, 3, 3, 3, 3, 3, 3, 3, 3, 3, 3, 3, 3, 3, 3, 3]\n"
          ],
          "name": "stdout"
        }
      ]
    },
    {
      "cell_type": "code",
      "metadata": {
        "colab": {
          "base_uri": "https://localhost:8080/"
        },
        "id": "gMiJZ4nCxTjs",
        "outputId": "4840fdfb-d6ad-4b88-cd86-3535fc1ef65b"
      },
      "source": [
        "print(clas)"
      ],
      "execution_count": null,
      "outputs": [
        {
          "output_type": "stream",
          "text": [
            "[0, 0, 0, 0, 0, 0, 0, 0, 0, 0, 0, 0, 0, 0, 0, 0, 0, 0, 0, 0, 0, 0, 0, 0, 0, 0, 0, 0, 0, 0, 0, 0, 0, 0, 0, 0, 0, 0, 0, 0, 0, 0, 0, 0, 0, 0, 0, 0, 0, 0, 0, 0, 0, 0, 0, 0, 0, 0, 0, 0, 0, 0, 0, 0, 0, 0, 0, 0, 0, 0, 0, 0, 0, 0, 0, 0, 0, 0, 0, 0, 0, 0, 0, 0, 0, 0, 0, 0, 0, 0, 0, 0, 0, 0, 0, 0, 0, 0, 0, 0, 0, 0, 0, 0, 0, 0, 0, 0, 0, 0, 0, 0, 0, 0, 0, 0, 0, 0, 0, 0, 0, 0, 0, 0, 0, 0, 0, 0, 0, 0, 0, 0, 0, 0, 0, 0, 0, 0, 0, 0, 0, 0, 0, 0, 0, 0, 0, 0, 0, 0, 0, 0, 0, 0, 0, 0, 0, 0, 0, 0, 0, 0, 0, 0, 0, 0, 0, 0, 0, 0, 0, 0, 0, 0, 0, 0, 0, 0, 0, 0, 0, 0, 0, 0, 0, 0, 0, 0, 0, 0, 0, 0, 0, 0, 0, 0, 0, 0, 0, 0, 0, 0, 0, 0, 0, 0, 0, 0, 0, 0, 0, 0, 0, 0, 0, 0, 0, 0, 0, 0, 0, 0, 0, 0, 0, 0, 0, 0, 0, 0, 0, 0, 0, 0, 0, 0, 0, 0, 0, 0, 0, 0, 0, 0, 0, 0, 0, 0, 0, 0, 0, 0, 0, 0, 0, 0, 0, 0, 0, 0, 0, 0, 0, 0, 0, 0, 0, 0, 0, 0, 0, 0, 0, 0, 0, 0, 0, 0, 0, 0, 0, 0, 0, 0, 0, 0, 0, 0, 0, 0, 0, 0, 0, 0, 0, 0, 0, 0, 0, 0, 0, 0, 0, 0, 0, 0, 0, 0, 0, 0, 0, 0, 0, 0, 0, 0, 0, 0, 0, 0, 0, 0, 0, 0, 0, 0, 0, 0, 0, 0, 0, 0, 0, 0, 0, 0, 0, 0, 0, 0, 0, 0, 0, 0, 0, 0, 0, 0, 0, 0, 0, 0, 0, 0, 0, 0, 0, 0, 0, 0, 0, 0, 0, 0, 0, 0, 0, 0, 0, 0, 0, 0, 0, 0, 0, 0, 0, 0, 0, 0, 0, 0, 0, 0, 0, 0, 0, 0, 0, 0, 0, 0, 0, 0, 0, 0, 0, 0, 0, 0, 0, 0, 0, 0, 0, 0, 0, 0, 0, 0, 0, 0, 0, 0, 0, 0, 0, 0, 0, 0, 0, 0, 0, 0, 0, 0, 0, 0, 0, 0, 0, 0, 0, 0, 0, 0, 0, 0, 0, 0, 0, 0, 0, 0, 0, 0, 0, 0, 0, 0, 0, 0, 0, 0, 0, 0, 0, 0, 0, 0, 0, 0, 0, 0, 0, 0, 0, 0, 0, 0, 0, 0, 0, 0, 0, 0, 0, 0, 0, 0, 0, 0, 0, 0, 0, 0, 0, 0, 0, 0, 0, 0, 0, 0, 0, 0, 0, 0, 0, 0, 0, 0, 0, 0, 0, 0, 0, 0, 0, 0, 0, 0, 0, 0, 0, 0, 0, 0, 0, 0, 0, 0, 0, 0, 0, 0, 0, 0, 0, 0, 0, 0, 0, 0, 0, 0, 0, 0, 0, 0, 0, 0, 0, 0, 0, 0, 0, 0, 0, 0, 0, 0, 0, 0, 0, 0, 0, 0, 0, 0, 0, 0, 0, 0, 0, 0, 0, 0, 0, 0, 0, 0, 0, 0, 0, 0, 0, 0, 0, 0, 0, 0, 0, 0, 0, 0, 0, 0, 0, 0, 0, 0, 0, 0, 0, 0, 0, 0, 0, 0, 0, 0, 0, 0, 0, 0, 0, 0, 0, 0, 0, 0, 0, 0, 0, 0, 0, 0, 0, 0, 0, 0, 0, 0, 0, 0, 0, 0, 0, 0, 0, 0, 0, 0, 0, 0, 0, 0, 0, 0, 0, 0, 0, 0, 0, 0, 0, 0, 0, 0, 0, 0, 0, 0, 0, 0, 0, 0, 0, 0, 0, 0, 0, 0, 0, 0, 0, 0, 0, 0, 0, 0, 0, 0, 0, 0, 0, 0, 0, 0, 0, 0, 0, 0, 0, 0, 0, 0, 0, 0, 0, 0, 0, 0, 0, 0, 0, 0, 0, 0, 0, 0, 0, 0, 0, 0, 0, 0, 0, 0, 0, 0, 0, 0, 0, 0, 0, 0, 0, 0, 0, 0, 0, 0, 0, 0, 0, 0, 0, 0, 0, 0, 0, 0, 0, 0, 0, 0, 0, 0, 0, 0, 0, 0, 0, 0, 0, 0, 0, 0, 0, 0, 0, 0, 0, 0, 0, 0, 0, 0, 0, 0, 0, 0, 0, 0, 0, 0, 0, 0, 0, 0, 0, 0, 0, 0, 0, 0, 0, 0, 0, 0, 0, 0, 0, 0, 0, 0, 0, 0, 0, 0, 0, 0, 0, 0, 0, 0, 0, 0, 0, 0, 0, 0, 0, 0, 0, 0, 0, 0, 0, 0, 0, 0, 0, 0, 0, 0, 0, 0, 0, 0, 0, 0, 0, 0, 1, 1, 1, 1, 1, 1, 1, 1, 1, 1, 1, 1, 1, 1, 1, 1, 1, 1, 1, 1, 1, 1, 1, 1, 1, 1, 1, 1, 1, 1, 1, 1, 1, 1, 1, 1, 1, 1, 1, 1, 1, 1, 1, 1, 1, 1, 1, 1, 1, 1, 1, 1, 1, 1, 1, 1, 1, 1, 1, 1, 1, 1, 1, 1, 1, 1, 1, 1, 1, 1, 1, 1, 1, 1, 1, 1, 1, 1, 1, 1, 1, 1, 1, 1, 1, 1, 1, 1, 1, 1, 1, 1, 1, 1, 1, 1, 1, 1, 1, 1, 1, 1, 1, 1, 1, 1, 1, 1, 1, 1, 1, 1, 1, 1, 1, 1, 1, 1, 1, 1, 1, 1, 1, 1, 1, 1, 1, 1, 1, 1, 1, 1, 1, 1, 1, 1, 1, 1, 1, 1, 1, 1, 1, 1, 1, 1, 1, 1, 1, 1, 1, 1, 1, 1, 1, 1, 1, 1, 1, 1, 1, 1, 1, 1, 1, 1, 1, 1, 1, 1, 1, 1, 1, 1, 1, 1, 1, 1, 1, 1, 1, 1, 1, 1, 1, 1, 1, 1, 1, 1, 1, 1, 1, 1, 1, 1, 1, 1, 1, 1, 1, 1, 1, 1, 1, 1, 1, 1, 1, 1, 1, 1, 1, 1, 1, 1, 1, 1, 1, 1, 1, 1, 1, 1, 1, 1, 1, 1, 1, 1, 1, 1, 1, 1, 1, 1, 1, 1, 1, 1, 1, 1, 1, 1, 1, 1, 1, 1, 1, 1, 1, 1, 1, 1, 1, 1, 1, 1, 1, 1, 1, 1, 1, 1, 1, 1, 1, 1, 1, 1, 1, 1, 1, 1, 1, 1, 1, 1, 1, 1, 1, 1, 1, 1, 1, 1, 1, 1, 1, 1, 1, 1, 1, 1, 1, 1, 1, 1, 1, 1, 1, 1, 1, 1, 1, 1, 1, 1, 1, 1, 1, 1, 1, 1, 1, 1, 1, 1, 1, 1, 1, 1, 1, 1, 1, 1, 1, 1, 1, 1, 1, 1, 1, 1, 1, 1, 1, 1, 1, 1, 1, 1, 1, 1, 1, 1, 1, 1, 1, 1, 1, 1, 1, 1, 1, 1, 1, 1, 1, 1, 1, 1, 1, 1, 1, 1, 1, 1, 1, 1, 1, 1, 1, 1, 1, 1, 1, 1, 1, 1, 1, 1, 1, 1, 1, 1, 1, 1, 1, 1, 1, 1, 1, 1, 1, 1, 1, 1, 1, 1, 1, 1, 1, 1, 1, 1, 1, 1, 1, 1, 1, 1, 1, 1, 1, 1, 1, 1, 1, 1, 1, 1, 1, 1, 1, 1, 1, 1, 1, 1, 1, 1, 1, 1, 1, 1, 1, 1, 1, 1, 1, 1, 1, 1, 1, 1, 1, 1, 1, 1, 1, 1, 1, 1, 1, 1, 1, 1, 1, 1, 1, 1, 1, 1, 1, 1, 1, 1, 1, 1, 1, 1, 1, 1, 1, 1, 1, 1, 1, 1, 1, 1, 1, 1, 1, 1, 1, 1, 1, 1, 1, 1, 1, 1, 1, 1, 1, 1, 1, 1, 1, 1, 1, 1, 1, 1, 1, 1, 1, 1, 1, 1, 1, 1, 1, 1, 1, 1, 1, 1, 1, 1, 1, 1, 1, 1, 1, 1, 1, 1, 1, 1, 1, 1, 1, 1, 1, 1, 1, 1, 1, 1, 1, 1, 1, 1, 1, 1, 1, 1, 1, 1, 1, 1, 1, 1, 1, 1, 1, 1, 1, 1, 1, 1, 1, 1, 1, 1, 1, 1, 1, 1, 1, 1, 1, 1, 1, 1, 1, 1, 1, 1, 1, 1, 1, 1, 1, 1, 1, 1, 1, 1, 1, 1, 1, 1, 1, 1, 1, 1, 1, 1, 1, 1, 1, 1, 1, 1, 1, 1, 1, 1, 1, 1, 1, 1, 1, 1, 1, 1, 1, 1, 1, 1, 1, 1, 1, 1, 1, 1, 1, 1, 1, 1, 1, 1, 1, 1, 1, 1, 1, 1, 1, 1, 1, 1, 1, 1, 1, 1, 1, 1, 1, 1, 1, 1, 1, 1, 1, 1, 1, 1, 1, 1, 1, 1, 1, 1, 1, 1, 1, 1, 1, 1, 1, 1, 1, 1, 1, 1, 1, 1, 1, 1, 1, 1, 1, 1, 1, 1, 1, 1, 1, 1, 1, 1, 1, 1, 1, 1, 1, 1, 1, 1, 1, 1, 1, 1, 1, 1, 1, 1, 1, 1, 1, 1, 1, 1, 1, 1, 1, 1, 1, 1, 1, 1, 1, 1, 1, 1, 1, 1, 1, 1, 1, 1, 1, 1, 1, 1, 1, 1, 1, 1, 1, 1, 1, 1, 1, 1, 1, 1, 1, 1, 1, 1, 1, 1, 1, 1, 1, 1, 1, 1, 1, 1, 1, 1, 1, 1, 1, 1, 1, 1, 1, 1, 1, 1, 1, 1, 1, 1, 1, 1, 1, 1, 1, 1, 1, 1, 1, 1, 1, 1, 1, 1, 1, 1, 1, 1, 1, 1, 1, 1, 1, 1, 1, 1, 1, 1, 1, 1, 1, 1, 1, 1, 1, 1, 1, 1, 1, 1, 1, 1, 1, 1, 1, 1, 1, 1, 1, 1, 1, 1, 1, 1, 1, 1, 1, 1, 1, 1, 1, 1, 1, 1, 1, 1, 1, 1, 1, 1, 1, 1, 1, 1, 1, 1, 1, 1, 1, 1, 1, 1, 1, 1, 1, 1, 1, 1, 1, 1, 1, 1, 1, 1, 1, 1, 1, 1, 1, 1, 1, 1, 1, 1, 1, 1, 1, 1, 1, 1, 1, 1, 1, 1, 1, 1, 1, 1, 1, 1, 1, 1, 1, 1, 1, 1, 1, 1, 1, 1, 1, 1, 1, 1, 1, 1, 1, 1, 1, 1, 1, 1, 1, 1, 1, 1, 1, 1, 1, 1, 1, 1, 1, 1, 1, 1, 1, 1, 1, 1, 1, 1, 1, 1, 1, 1, 1, 1, 1, 1, 1, 1, 1, 1, 1, 1, 1, 1, 1, 1, 1, 1, 1, 1, 1, 1, 1, 1, 1, 1, 1, 1, 1, 1, 1, 1, 1, 1, 1, 1, 1, 1, 1, 1, 1, 1, 1, 1, 1, 1, 1, 1, 1, 1, 1, 1, 1, 1, 1, 1, 1, 1, 1, 1, 1, 1, 1, 1, 1, 1, 1, 1, 1, 1, 1, 1, 1, 1, 1, 1, 1, 1, 1, 1, 1, 1, 1, 1, 1, 1, 1, 1, 1, 1, 1, 1, 1, 1, 1, 1, 1, 1, 1, 1, 1, 1, 1, 1, 1, 1, 1, 1, 1, 1, 1, 1, 1, 1, 1, 1, 1, 1, 1, 1, 1, 1, 1, 1, 1, 1, 1, 1, 1, 1, 1, 1, 1, 1, 1, 1, 1, 1, 1, 1, 1, 1, 1, 1, 1, 1, 1, 1, 1, 1, 1, 1, 1, 1, 1, 1, 1, 1, 1, 1, 1, 1, 1, 1, 1, 1, 1, 1, 1, 1, 1, 1, 1, 1, 1, 1, 1, 1, 1, 1, 1, 1, 1, 1, 1, 1, 1, 1, 1, 1, 1, 1, 1, 1, 1, 1, 1, 1, 1, 1, 1, 1, 1, 1, 1, 1, 1, 1, 1, 1, 1, 1, 1, 1, 1, 1, 1, 1, 1, 1, 1, 1, 1, 1, 1, 1, 1, 1, 1, 1, 1, 1, 1, 1, 1, 1, 1, 1, 1, 1, 1, 1, 1, 1, 1, 1, 1, 1, 1, 1, 1, 1, 1, 1, 1, 1, 1, 1, 1, 1, 1, 1, 1, 1, 1, 1, 1, 1, 1, 1, 1, 1, 1, 1, 1, 1, 1, 1, 1, 1, 1, 1, 1, 1, 1, 1, 1, 1, 1, 1, 1, 1, 1, 1, 1, 1, 1, 1, 1, 1, 1, 1, 1, 1, 1, 1, 1, 1, 1, 1, 1, 1, 1, 1, 1, 1, 1, 1, 1, 1, 1, 1, 1, 1, 1, 1, 1, 1, 1, 1, 1, 1, 1, 1, 1, 1, 1, 1, 1, 1, 1, 1, 1, 1, 1, 1, 1, 1, 1, 1, 1, 1, 1, 1, 1, 1, 1, 1, 1, 1, 1, 1, 1, 1, 1, 1, 1, 1, 1, 1, 1, 1, 1, 1, 1, 1, 1, 1, 1, 1, 1, 1, 1, 1, 1, 1, 1, 1, 1, 1, 1, 1, 1, 1, 1, 1, 1, 1, 1, 1, 1, 1, 1, 1, 1, 1, 1, 1, 1, 1, 1, 1, 1, 1, 1, 1, 1, 1, 1, 1, 1, 1, 1, 1, 1, 1, 1, 1, 1, 1, 1, 1, 1, 1, 1, 1, 1, 1, 1, 1, 1, 1, 1, 1, 1, 1, 1, 1, 1, 1, 1, 1, 1, 1, 1, 1, 1, 1, 1, 1, 1, 1, 1, 1, 1, 1, 1, 1, 1, 1, 1, 1, 1, 1, 1, 1, 1, 1, 1, 1, 1, 1, 1, 1, 1, 1, 1, 1, 1, 1, 1, 1, 1, 1, 1, 1, 1, 1, 1, 1, 1, 1, 1, 1, 1, 1, 1, 1, 1, 1, 1, 1, 1, 1, 1, 1, 1, 1, 1, 1, 1, 1, 1, 1, 1, 1, 1, 1, 1, 1, 1, 1, 1, 1, 1, 1, 1, 1, 1, 1, 1, 1, 1, 1, 1, 1, 1, 1, 1, 1, 1, 1, 1, 1, 1, 1, 1, 1, 1, 1, 1, 1, 1, 1, 1, 1, 1, 1, 1, 1, 1, 1, 1, 1, 1, 1, 1, 1, 1, 1, 1, 1, 1, 1, 1, 1, 1, 1, 1, 1, 1, 1, 1, 1, 1, 1, 1, 1, 1, 1, 1, 1, 1, 1, 1, 1, 1, 1, 1, 1, 1, 1, 1, 1, 1, 1, 1, 1, 1, 1, 1, 1, 1, 1, 1, 1, 1, 1, 1, 1, 1, 1, 1, 1, 1, 1, 1, 1, 1, 1, 1, 1, 1, 1, 1, 1, 1, 1, 1, 1, 1, 1, 1, 1, 1, 1, 1, 1, 1, 1, 1, 1, 1, 1, 1, 1, 1, 1, 1, 1, 1, 1, 1, 1, 1, 1, 1, 1, 1, 1, 1, 1, 1, 1, 1, 1, 1, 1, 1, 1, 1, 1, 1, 1, 1, 1, 1, 1, 1, 1, 1, 1, 1, 1, 1, 1, 1, 1, 1, 1, 1, 1, 1, 1, 1, 1, 1, 1, 1, 1, 1, 1, 1, 1, 1, 1, 1, 1, 1, 1, 1, 1, 1, 1, 1, 1, 1, 1, 1, 1, 1, 1, 1, 1, 1, 1, 1, 1, 1, 1, 1, 1, 1, 1, 1, 1, 1, 1, 1, 1, 1, 1, 1, 1, 1, 1, 1, 1, 1, 1, 1, 1, 1, 1, 1, 1, 1, 1, 1, 1, 1, 1, 1, 1, 1, 1, 1, 1, 1, 1, 1, 1, 1, 1, 1, 1, 1, 1, 1, 1, 1, 1, 1, 1, 1, 1, 1, 1, 1, 1, 1, 1, 1, 1, 1, 1, 1, 1, 1, 1, 1, 1, 1, 1, 1, 1, 1, 1, 1, 1, 1, 1, 1, 1, 1, 1, 1, 1, 1, 1, 1, 1, 1, 1, 1, 1, 1, 1, 1, 1, 1, 1, 1, 1, 1, 1, 1, 1, 1, 1, 1, 1, 1, 1, 1, 1, 1, 1, 1, 1, 1, 1, 1, 1, 1, 1, 1, 1, 1, 1, 1, 1, 1, 1, 1, 1, 1, 1, 1, 1, 1, 1, 1, 1, 1, 1, 1, 1, 1, 1, 1, 1, 1, 1, 1, 1, 1, 1, 1, 1, 1, 1, 1, 1, 1, 1, 1, 1, 1, 1, 1, 1, 1, 1, 1, 1, 1, 1, 1, 1, 1, 1, 1, 1, 1, 1, 1, 1, 1, 1, 1, 1, 1, 1, 1, 1, 1, 1, 1, 1, 1, 1, 1, 1, 1, 1, 1, 1, 1, 1, 1, 1, 1, 1, 1, 1, 1, 1, 1, 1, 1, 1, 1, 1, 1, 1, 1, 1, 1, 1, 1, 1, 1, 1, 1, 1, 1, 1, 1, 1, 1, 1, 1, 1, 1, 1, 1, 1, 1, 1, 1, 1, 1, 1, 1, 1, 1, 1, 1, 1, 1, 1, 1, 1, 1, 1, 1, 1, 1, 1, 1, 1, 1, 1, 1, 1, 1, 1, 1, 1, 1, 1, 1, 1, 1, 1, 1, 1, 1, 1, 1, 1, 1, 1, 1, 1, 1, 1, 1, 1, 1, 1, 1, 1, 1, 1, 1, 1, 1, 1, 1, 1, 1, 1, 1, 1, 1, 1, 1, 1, 1, 1, 1, 1, 1, 1, 1, 1, 1, 1, 1, 1, 1, 1, 1, 1, 1, 1, 1, 1, 1, 1, 1, 1, 1, 1, 1, 1]\n"
          ],
          "name": "stdout"
        }
      ]
    },
    {
      "cell_type": "code",
      "metadata": {
        "colab": {
          "base_uri": "https://localhost:8080/"
        },
        "id": "ymsjqD5kYYCN",
        "outputId": "f3f5f763-1150-4278-d15d-9ce21f85eb42"
      },
      "source": [
        "print(clas)"
      ],
      "execution_count": null,
      "outputs": [
        {
          "output_type": "stream",
          "text": [
            "[0, 0, 0, 0, 0, 0, 0, 0, 0, 0, 0, 0, 0, 0, 0, 0, 0, 0, 0, 0, 0, 0, 0, 0, 0, 0, 0, 0, 0, 0, 0, 0, 0, 0, 0, 0, 0, 0, 0, 0, 0, 0, 0, 0, 0, 0, 0, 0, 0, 0, 0, 0, 0, 0, 0, 0, 0, 0, 0, 0, 0, 0, 0, 0, 0, 0, 0, 0, 0, 0, 0, 0, 0, 0, 0, 0, 0, 0, 0, 0, 0, 0, 0, 0, 0, 0, 0, 0, 0, 0, 0, 0, 0, 0, 0, 0, 0, 0, 0, 0, 0, 0, 0, 0, 0, 0, 0, 0, 0, 0, 0, 0, 0, 0, 0, 0, 0, 0, 0, 0, 0, 0, 0, 0, 0, 0, 0, 0, 0, 0, 0, 0, 0, 0, 0, 0, 0, 0, 0, 0, 0, 0, 0, 0, 0, 0, 0, 0, 0, 0, 0, 0, 0, 0, 0, 0, 0, 0, 0, 0, 0, 0, 0, 0, 0, 0, 0, 0, 0, 0, 0, 0, 0, 0, 0, 0, 0, 0, 0, 0, 0, 0, 0, 0, 0, 0, 0, 0, 0, 0, 0, 0, 0, 0, 0, 0, 0, 0, 0, 0, 0, 0, 0, 0, 0, 0, 0, 0, 0, 0, 0, 0, 0, 0, 0, 0, 0, 0, 0, 0, 0, 0, 0, 0, 0, 0, 0, 0, 0, 0, 0, 0, 0, 0, 0, 0, 0, 0, 0, 0, 0, 0, 0, 0, 0, 0, 0, 0, 0, 0, 0, 0, 0, 0, 0, 0, 0, 0, 0, 0, 0, 0, 0, 0, 0, 0, 0, 0, 0, 0, 0, 0, 0, 0, 0, 0, 0, 0, 0, 0, 0, 0, 0, 0, 0, 0, 0, 0, 0, 0, 0, 0, 0, 0, 0, 0, 0, 0, 0, 0, 0, 0, 0, 0, 0, 0, 0, 0, 0, 0, 0, 0, 0, 0, 0, 0, 0, 0, 0, 0, 0, 0, 0, 0, 0, 0, 0, 0, 0, 0, 0, 0, 0, 0, 0, 0, 0, 0, 0, 0, 0, 0, 0, 0, 0, 0, 0, 0, 0, 0, 0, 0, 0, 0, 0, 0, 0, 0, 0, 0, 0, 0, 0, 0, 0, 0, 0, 0, 0, 0, 0, 0, 0, 0, 0, 0, 0, 0, 0, 0, 0, 0, 0, 0, 0, 0, 0, 0, 0, 0, 0, 0, 0, 0, 0, 0, 0, 0, 0, 0, 0, 0, 0, 0, 0, 0, 0, 0, 0, 0, 0, 0, 0, 0, 0, 0, 0, 0, 0, 0, 0, 0, 0, 0, 0, 0, 0, 0, 0, 0, 0, 0, 0, 0, 0, 0, 0, 0, 0, 0, 0, 0, 0, 0, 0, 0, 0, 0, 0, 0, 0, 0, 0, 0, 0, 0, 0, 0, 0, 0, 0, 0, 0, 0, 0, 0, 0, 0, 0, 0, 0, 0, 0, 0, 0, 0, 0, 0, 0, 0, 0, 0, 0, 0, 0, 0, 0, 0, 0, 0, 0, 0, 0, 0, 0, 0, 0, 0, 0, 0, 0, 0, 0, 0, 0, 0, 0, 0, 0, 0, 0, 0, 0, 0, 0, 0, 0, 0, 0, 0, 0, 0, 0, 0, 0, 0, 0, 0, 0, 0, 0, 0, 0, 0, 0, 0, 0, 0, 0, 0, 0, 0, 0, 0, 0, 0, 0, 0, 0, 0, 0, 0, 0, 0, 0, 0, 0, 0, 0, 0, 0, 0, 0, 0, 0, 0, 0, 0, 0, 0, 0, 0, 0, 0, 0, 0, 0, 0, 0, 0, 0, 0, 0, 0, 0, 0, 0, 0, 0, 0, 0, 0, 0, 0, 0, 0, 0, 0, 0, 0, 0, 0, 0, 0, 0, 0, 0, 0, 0, 0, 0, 0, 0, 0, 0, 0, 0, 0, 0, 0, 0, 0, 0, 0, 0, 0, 0, 0, 0, 0, 0, 0, 0, 0, 0, 0, 0, 0, 0, 0, 0, 0, 0, 0, 0, 0, 0, 0, 0, 0, 0, 0, 0, 0, 0, 0, 0, 0, 0, 0, 0, 0, 0, 0, 0, 0, 0, 0, 0, 0, 0, 0, 0, 0, 0, 0, 0, 0, 0, 0, 0, 0, 0, 0, 0, 0, 0, 0, 0, 0, 0, 0, 0, 0, 0, 0, 0, 0, 0, 0, 0, 0, 0, 0, 0, 0, 0, 0, 0, 0, 0, 0, 0, 0, 0, 0, 0, 0, 0, 0, 0, 0, 0, 0, 0, 0, 0, 0, 0, 0, 0, 0, 0, 0, 0, 0, 0, 0, 0, 0, 0, 0, 0, 0, 0, 0, 0, 0, 0, 0, 0, 0, 0, 0, 0, 0, 0, 0, 0, 0, 0, 0, 0, 0, 0, 0, 0, 0, 0, 0, 0, 0, 0, 0, 0, 0, 0, 0, 0, 0, 0, 0, 0, 0, 0, 0, 0, 0, 0, 0, 0, 0, 0, 0, 0, 0, 0, 0, 0, 0, 0, 0, 0, 0, 0, 0, 0, 0, 0, 0, 0, 0, 0, 0, 0, 0, 0, 0, 0, 0, 0, 0, 0, 0, 0, 0, 1, 1, 1, 1, 1, 1, 1, 1, 1, 1, 1, 1, 1, 1, 1, 1, 1, 1, 1, 1, 1, 1, 1, 1, 1, 1, 1, 1, 1, 1, 1, 1, 1, 1, 1, 1, 1, 1, 1, 1, 1, 1, 1, 1, 1, 1, 1, 1, 1, 1, 1, 1, 1, 1, 1, 1, 1, 1, 1, 1, 1, 1, 1, 1, 1, 1, 1, 1, 1, 1, 1, 1, 1, 1, 1, 1, 1, 1, 1, 1, 1, 1, 1, 1, 1, 1, 1, 1, 1, 1, 1, 1, 1, 1, 1, 1, 1, 1, 1, 1, 1, 1, 1, 1, 1, 1, 1, 1, 1, 1, 1, 1, 1, 1, 1, 1, 1, 1, 1, 1, 1, 1, 1, 1, 1, 1, 1, 1, 1, 1, 1, 1, 1, 1, 1, 1, 1, 1, 1, 1, 1, 1, 1, 1, 1, 1, 1, 1, 1, 1, 1, 1, 1, 1, 1, 1, 1, 1, 1, 1, 1, 1, 1, 1, 1, 1, 1, 1, 1, 1, 1, 1, 1, 1, 1, 1, 1, 1, 1, 1, 1, 1, 1, 1, 1, 1, 1, 1, 1, 1, 1, 1, 1, 1, 1, 1, 1, 1, 1, 1, 1, 1, 1, 1, 1, 1, 1, 1, 1, 1, 1, 1, 1, 1, 1, 1, 1, 1, 1, 1, 1, 1, 1, 1, 1, 1, 1, 1, 1, 1, 1, 1, 1, 1, 1, 1, 1, 1, 1, 1, 1, 1, 1, 1, 1, 1, 1, 1, 1, 1, 1, 1, 1, 1, 1, 1, 1, 1, 1, 1, 1, 1, 1, 1, 1, 1, 1, 1, 1, 1, 1, 1, 1, 1, 1, 1, 1, 1, 1, 1, 1, 1, 1, 1, 1, 1, 1, 1, 1, 1, 1, 1, 1, 1, 1, 1, 1, 1, 1, 1, 1, 1, 1, 1, 1, 1, 1, 1, 1, 1, 1, 1, 1, 1, 1, 1, 1, 1, 1, 1, 1, 1, 1, 1, 1, 1, 1, 1, 1, 1, 1, 1, 1, 1, 1, 1, 1, 1, 1, 1, 1, 1, 1, 1, 1, 1, 1, 1, 1, 1, 1, 1, 1, 1, 1, 1, 1, 1, 1, 1, 1, 1, 1, 1, 1, 1, 1, 1, 1, 1, 1, 1, 1, 1, 1, 1, 1, 1, 1, 1, 1, 1, 1, 1, 1, 1, 1, 1, 1, 1, 1, 1, 1, 1, 1, 1, 1, 1, 1, 1, 1, 1, 1, 1, 1, 1, 1, 1, 1, 1, 1, 1, 1, 1, 1, 1, 1, 1, 1, 1, 1, 1, 1, 1, 1, 1, 1, 1, 1, 1, 1, 1, 1, 1, 1, 1, 1, 1, 1, 1, 1, 1, 1, 1, 1, 1, 1, 1, 1, 1, 1, 1, 1, 1, 1, 1, 1, 1, 1, 1, 1, 1, 1, 1, 1, 1, 1, 1, 1, 1, 1, 1, 1, 1, 1, 1, 1, 1, 1, 1, 1, 1, 1, 1, 1, 1, 1, 1, 1, 1, 1, 1, 1, 1, 1, 1, 1, 1, 1, 1, 1, 1, 1, 1, 1, 1, 1, 1, 1, 1, 1, 1, 1, 1, 1, 1, 1, 1, 1, 1, 1, 1, 1, 1, 1, 1, 1, 1, 1, 1, 1, 1, 1, 1, 1, 1, 1, 1, 1, 1, 1, 1, 1, 1, 1, 1, 1, 1, 1, 1, 1, 1, 1, 1, 1, 1, 1, 1, 1, 1, 1, 1, 1, 1, 1, 1, 1, 1, 1, 1, 1, 1, 1, 1, 1, 1, 1, 1, 1, 1, 1, 1, 1, 1, 1, 1, 1, 1, 1, 1, 1, 1, 1, 1, 1, 1, 1, 1, 1, 1, 1, 1, 1, 1, 1, 1, 1, 1, 1, 1, 1, 1, 1, 1, 1, 1, 1, 1, 1, 1, 1, 1, 1, 1, 1, 1, 1, 1, 1, 1, 1, 1, 1, 1, 1, 1, 1, 1, 1, 1, 1, 1, 1, 1, 1, 1, 1, 1, 1, 1, 1, 1, 1, 1, 1, 1, 1, 1, 1, 1, 1, 1, 1, 1, 1, 1, 1, 1, 1, 1, 1, 1, 1, 1, 1, 1, 1, 1, 1, 1, 1, 1, 1, 1, 1, 1, 1, 1, 1, 1, 1, 1, 1, 1, 1, 1, 1, 1, 1, 1, 1, 1, 1, 1, 1, 1, 1, 1, 1, 1, 1, 1, 1, 1, 1, 1, 1, 1, 1, 1, 1, 1, 1, 1, 1, 1, 1, 1, 1, 1, 1, 1, 1, 1, 1, 1, 1, 1, 1, 1, 1, 1, 1, 1, 1, 1, 1, 1, 1, 1, 1, 1, 1, 1, 1, 1, 1, 1, 1, 1, 1, 1, 1, 1, 1, 1, 1, 1, 1, 1, 1, 1, 1, 1, 1, 1, 1, 1, 1, 1, 1, 1, 1, 1, 1, 1, 1, 1, 1, 1, 1, 1, 1, 1, 1, 1, 1, 1, 1, 1, 1, 1, 1, 1, 1, 1, 1, 1, 1, 1, 1, 1, 1, 1, 1, 1, 1, 1, 1, 1, 1, 1, 1, 1, 1, 1, 1, 1, 1, 1, 1, 1, 1, 1, 1, 1, 1, 1, 1, 1, 1, 1, 1, 1, 1, 1, 1, 1, 1, 1, 1, 1, 1, 1, 1, 1, 1, 1, 1, 1, 1, 1, 1, 1, 1, 1, 1, 1, 1, 1, 1, 1, 1, 1, 1, 1, 1, 1, 1, 1, 1, 1, 1, 1, 1, 1, 1, 1, 1, 1, 1, 1, 1, 1, 1, 1, 1, 1, 1, 1, 1, 1, 1, 1, 1, 1, 1, 1, 1, 1, 1, 1, 1, 1, 1, 1, 1, 1, 1, 1, 1, 1, 1, 1, 1, 1, 1, 1, 1, 1, 1, 1, 1, 1, 1, 1, 1, 1, 1, 1, 1, 1, 1, 1, 1, 1, 1, 1, 1, 1, 1, 1, 1, 1, 1, 1, 1, 1, 1, 1, 1, 1, 1, 1, 1, 1, 1, 1, 1, 1, 1, 1, 1, 1, 1, 1, 1, 1, 1, 1, 1, 1, 1, 1, 1, 1, 1, 1, 1, 1, 1, 1, 1, 1, 1, 1, 1, 1, 1, 1, 1, 1, 1, 1, 1, 1, 1, 1, 1, 1, 1, 1, 1, 1, 1, 1, 1, 1, 1, 1, 1, 1, 1, 1, 1, 1, 1, 1, 1, 1, 1, 1, 1, 1, 1, 1, 1, 1, 1, 1, 1, 1, 1, 1, 1, 1, 1, 1, 1, 1, 1, 1, 1, 1, 1, 1, 1, 1, 1, 1, 1, 1, 1, 1, 1, 1, 1, 1, 1, 1, 1, 1, 1, 1, 1, 1, 1, 1, 1, 1, 1, 1, 1, 1, 1, 1, 1, 1, 1, 1, 1, 1, 1, 1, 1, 1, 1, 1, 1, 1, 1, 1, 1, 1, 1, 1, 1, 1, 1, 1, 1, 1, 1, 1, 1, 1, 1, 1, 1, 1, 1, 1, 1, 1, 1, 1, 1, 1, 1, 1, 1, 1, 1, 1, 1, 1, 1, 1, 1, 1, 1, 1, 1, 1, 1, 1, 1, 1, 1, 1, 1, 1, 1, 1, 1, 1, 1, 1, 1, 1, 1, 1, 1, 1, 1, 1, 1, 1, 1, 1, 1, 1, 1, 1, 1, 1, 1, 1, 1, 1, 1, 1, 1, 1, 1, 1, 1, 1, 1, 1, 1, 1, 1, 1, 1, 1, 1, 1, 1, 1, 1, 1, 1, 1, 1, 1, 1, 1, 1, 1, 1, 1, 1, 1, 1, 1, 1, 1, 1, 1, 1, 1, 1, 1, 1, 1, 1, 1, 1, 1, 1, 1, 1, 1, 1, 1, 1, 1, 1, 1, 1, 1, 1, 1, 1, 1, 1, 1, 1, 1, 1, 1, 1, 1, 1, 1, 1, 1, 1, 1, 1, 1, 1, 1, 1, 1, 1, 1, 1, 1, 1, 1, 1, 1, 1, 1, 1, 1, 1, 1, 1, 1, 1, 1, 1, 1, 1, 1, 1, 1, 1, 1, 1, 1, 1, 1, 1, 1, 1, 1, 1, 1, 1, 1, 1, 1, 1, 1, 1, 1, 1, 1, 1, 1, 1, 1, 1, 1, 1, 1, 1, 1, 1, 1, 1, 1, 1, 1, 1, 1, 1, 1, 1, 1, 1, 1, 1, 1, 1, 1, 1, 1, 1, 1, 1, 1, 1, 1, 1, 1, 1, 1, 1, 1, 1, 1, 1, 1, 1, 1, 1, 1, 1, 1, 1, 1, 1, 1, 1, 1, 1, 1, 1, 1, 1, 1, 1, 1, 1, 1, 1, 1, 1, 1, 1, 1, 1, 1, 1, 1, 1, 1, 1, 1, 1, 1, 1, 1, 1, 1, 1, 1, 1, 1, 1, 1, 1, 1, 1, 1, 1, 1, 1, 1, 1, 1, 1, 1, 1, 1, 1, 1, 1, 1, 1, 1, 1, 1, 1, 1, 1, 1, 1, 1, 1, 1, 1, 1, 1, 1, 1, 1, 1, 1, 1, 1, 1, 1, 1, 1, 1, 1, 1, 1, 1, 1, 1, 1, 1, 1, 1, 1, 1, 1, 1, 1, 1, 1, 1, 1, 1, 1, 1, 1, 1, 1, 1, 1, 1, 1, 1, 1, 1, 1, 1, 1, 1, 1, 1, 1, 1, 1, 1, 1, 1, 1, 1, 1, 1, 1, 1, 1, 1, 1, 1, 1, 1, 1, 1, 1, 1, 1, 1, 1, 1, 1, 1, 1, 1, 1, 1, 1, 1, 1, 1, 1, 1, 1, 1, 1, 1, 1, 1, 1, 1, 1, 1, 1, 1, 1, 1, 1, 1, 1, 1, 1, 1, 1, 1, 1, 1, 1, 1, 1, 1, 1, 1, 1, 1, 1, 1, 1, 1, 1, 1, 1, 1, 1, 1, 1, 1, 1, 1, 1, 1, 1, 1, 1, 1, 1, 1, 1, 1, 1, 1, 1, 1, 1, 1, 1, 1, 1, 1, 1, 1, 1, 1, 1, 1, 1, 1, 1, 1, 1, 1, 1, 1, 1, 1, 1, 1, 1, 1, 1, 1, 1, 1, 1, 1, 1, 1, 1, 1, 1, 1, 1, 1, 1, 1, 1, 1, 1, 1, 1, 1, 1, 1, 1, 1, 1, 1, 1, 1, 1, 1, 1, 1, 1, 1, 1, 1, 1, 1, 1, 1, 1, 1, 1, 1, 1, 1, 1, 1, 1, 1, 1, 1, 1, 1, 1, 1, 1, 1, 1, 1, 1, 1, 1, 1, 1, 1, 1, 1, 1, 1, 1, 1, 1, 1, 1, 1, 1, 1, 1, 1, 1, 1, 1, 1, 1, 1, 1, 1, 1, 1, 1, 1, 1, 1, 1, 1, 1, 1, 1, 1, 1, 1, 1, 1, 1, 1, 1, 1, 1, 1, 1, 1, 1, 1, 1, 1, 1, 1, 1, 1, 1, 1, 1, 1, 1, 1, 1, 1, 1, 1, 1, 1, 1, 1, 1, 1, 1, 1, 1, 1, 1, 1, 1, 1, 1, 1, 1, 1, 1, 1, 1, 1, 1, 1, 1, 1, 1, 1, 1, 1, 1, 1, 1, 1, 1, 1, 1, 1, 1, 1, 1, 1, 1, 1, 1, 1, 1, 1, 1, 1, 1, 1, 1, 1, 1, 1, 1, 1, 1, 1, 1, 1, 1, 1, 1, 1, 1, 1, 1, 1, 1, 1, 1, 1, 1, 1, 1, 1, 1, 1, 1, 1, 1, 1, 1, 1, 1, 1, 1, 1, 1, 1, 1, 1, 1, 1, 1, 1, 1, 1, 1, 1, 1, 1, 1, 1, 1, 1, 1, 1, 1, 1, 1, 1, 1, 1, 1, 1, 1, 1, 1, 1, 1, 1, 1, 1, 1, 1, 1, 1, 1, 1, 1, 1, 1, 1, 1, 1, 1, 1, 1, 1, 1, 1, 1, 1, 1, 1, 1, 1, 1, 1, 1, 1, 1, 1, 1, 1, 1, 1, 1, 1, 1, 1, 1, 1, 1, 1, 1, 1, 1, 1, 1, 1, 1, 1, 1, 1, 1, 1, 1, 1, 1, 1, 1, 1, 1, 1, 1, 1, 1, 1, 1, 1, 1, 1, 1, 1, 1, 1, 1, 1, 1, 1, 1, 1, 1, 1, 1, 1, 1, 1, 1, 1, 1, 1, 1, 1, 1, 1, 1, 1, 1, 1, 1, 1, 1, 1, 1, 1, 1, 1, 1, 1, 1, 1, 1, 1, 1, 1, 1, 1, 1, 1, 1, 1, 1, 1, 1, 1, 1, 1, 1, 1, 1, 1, 1, 1, 1, 1, 1, 1, 1, 1, 1, 1, 1, 1, 1, 1, 1, 1, 1, 1, 1, 1, 1, 1, 1, 1, 1, 1, 1, 1, 1, 1, 1, 1, 1, 1, 1, 1, 1, 1, 1, 1, 1, 1, 1]\n"
          ],
          "name": "stdout"
        }
      ]
    },
    {
      "cell_type": "code",
      "metadata": {
        "id": "kaBX8nhoXZuo"
      },
      "source": [
        "import pandas as pd"
      ],
      "execution_count": null,
      "outputs": []
    },
    {
      "cell_type": "code",
      "metadata": {
        "id": "lrDeaG8hXZ7D"
      },
      "source": [
        "df=pd.DataFrame({\"names\":n,\"category\":clas})"
      ],
      "execution_count": null,
      "outputs": []
    },
    {
      "cell_type": "code",
      "metadata": {
        "colab": {
          "base_uri": "https://localhost:8080/",
          "height": 195
        },
        "id": "AZZPycg9XZ9m",
        "outputId": "cb8aa878-0d47-434f-9ce9-33014e5bcdff"
      },
      "source": [
        "df.head()"
      ],
      "execution_count": null,
      "outputs": [
        {
          "output_type": "execute_result",
          "data": {
            "text/html": [
              "<div>\n",
              "<style scoped>\n",
              "    .dataframe tbody tr th:only-of-type {\n",
              "        vertical-align: middle;\n",
              "    }\n",
              "\n",
              "    .dataframe tbody tr th {\n",
              "        vertical-align: top;\n",
              "    }\n",
              "\n",
              "    .dataframe thead th {\n",
              "        text-align: right;\n",
              "    }\n",
              "</style>\n",
              "<table border=\"1\" class=\"dataframe\">\n",
              "  <thead>\n",
              "    <tr style=\"text-align: right;\">\n",
              "      <th></th>\n",
              "      <th>names</th>\n",
              "      <th>category</th>\n",
              "    </tr>\n",
              "  </thead>\n",
              "  <tbody>\n",
              "    <tr>\n",
              "      <th>0</th>\n",
              "      <td>gg (677).jpg</td>\n",
              "      <td>0</td>\n",
              "    </tr>\n",
              "    <tr>\n",
              "      <th>1</th>\n",
              "      <td>gg (78).jpg</td>\n",
              "      <td>0</td>\n",
              "    </tr>\n",
              "    <tr>\n",
              "      <th>2</th>\n",
              "      <td>gg (188).jpg</td>\n",
              "      <td>0</td>\n",
              "    </tr>\n",
              "    <tr>\n",
              "      <th>3</th>\n",
              "      <td>gg (437).jpg</td>\n",
              "      <td>0</td>\n",
              "    </tr>\n",
              "    <tr>\n",
              "      <th>4</th>\n",
              "      <td>gg (818).jpg</td>\n",
              "      <td>0</td>\n",
              "    </tr>\n",
              "  </tbody>\n",
              "</table>\n",
              "</div>"
            ],
            "text/plain": [
              "          names  category\n",
              "0  gg (677).jpg         0\n",
              "1   gg (78).jpg         0\n",
              "2  gg (188).jpg         0\n",
              "3  gg (437).jpg         0\n",
              "4  gg (818).jpg         0"
            ]
          },
          "metadata": {
            "tags": []
          },
          "execution_count": 188
        }
      ]
    },
    {
      "cell_type": "code",
      "metadata": {
        "colab": {
          "base_uri": "https://localhost:8080/"
        },
        "id": "yGBT5uOGXZ_d",
        "outputId": "c93f9406-78c0-4959-d647-868ad991e7d9"
      },
      "source": [
        "m[0].shape"
      ],
      "execution_count": null,
      "outputs": [
        {
          "output_type": "execute_result",
          "data": {
            "text/plain": [
              "()"
            ]
          },
          "metadata": {
            "tags": []
          },
          "execution_count": 206
        }
      ]
    },
    {
      "cell_type": "code",
      "metadata": {
        "colab": {
          "base_uri": "https://localhost:8080/",
          "height": 1000
        },
        "id": "3SUxUNzdXaBs",
        "outputId": "c19aa5ad-73da-4dc2-f4a2-292b2200a290"
      },
      "source": [
        "df.tail(60)"
      ],
      "execution_count": null,
      "outputs": [
        {
          "output_type": "execute_result",
          "data": {
            "text/html": [
              "<div>\n",
              "<style scoped>\n",
              "    .dataframe tbody tr th:only-of-type {\n",
              "        vertical-align: middle;\n",
              "    }\n",
              "\n",
              "    .dataframe tbody tr th {\n",
              "        vertical-align: top;\n",
              "    }\n",
              "\n",
              "    .dataframe thead th {\n",
              "        text-align: right;\n",
              "    }\n",
              "</style>\n",
              "<table border=\"1\" class=\"dataframe\">\n",
              "  <thead>\n",
              "    <tr style=\"text-align: right;\">\n",
              "      <th></th>\n",
              "      <th>names</th>\n",
              "      <th>category</th>\n",
              "    </tr>\n",
              "  </thead>\n",
              "  <tbody>\n",
              "    <tr>\n",
              "      <th>2810</th>\n",
              "      <td>image(206).jpg</td>\n",
              "      <td>3</td>\n",
              "    </tr>\n",
              "    <tr>\n",
              "      <th>2811</th>\n",
              "      <td>image(189).jpg</td>\n",
              "      <td>3</td>\n",
              "    </tr>\n",
              "    <tr>\n",
              "      <th>2812</th>\n",
              "      <td>image(57).jpg</td>\n",
              "      <td>3</td>\n",
              "    </tr>\n",
              "    <tr>\n",
              "      <th>2813</th>\n",
              "      <td>image(132).jpg</td>\n",
              "      <td>3</td>\n",
              "    </tr>\n",
              "    <tr>\n",
              "      <th>2814</th>\n",
              "      <td>image(31).jpg</td>\n",
              "      <td>3</td>\n",
              "    </tr>\n",
              "    <tr>\n",
              "      <th>2815</th>\n",
              "      <td>1.jpg</td>\n",
              "      <td>3</td>\n",
              "    </tr>\n",
              "    <tr>\n",
              "      <th>2816</th>\n",
              "      <td>image(309).jpg</td>\n",
              "      <td>3</td>\n",
              "    </tr>\n",
              "    <tr>\n",
              "      <th>2817</th>\n",
              "      <td>image(73).jpg</td>\n",
              "      <td>3</td>\n",
              "    </tr>\n",
              "    <tr>\n",
              "      <th>2818</th>\n",
              "      <td>image (30).jpg</td>\n",
              "      <td>3</td>\n",
              "    </tr>\n",
              "    <tr>\n",
              "      <th>2819</th>\n",
              "      <td>image(235).jpg</td>\n",
              "      <td>3</td>\n",
              "    </tr>\n",
              "    <tr>\n",
              "      <th>2820</th>\n",
              "      <td>image (15).jpg</td>\n",
              "      <td>3</td>\n",
              "    </tr>\n",
              "    <tr>\n",
              "      <th>2821</th>\n",
              "      <td>image(47).jpg</td>\n",
              "      <td>3</td>\n",
              "    </tr>\n",
              "    <tr>\n",
              "      <th>2822</th>\n",
              "      <td>image(172).jpg</td>\n",
              "      <td>3</td>\n",
              "    </tr>\n",
              "    <tr>\n",
              "      <th>2823</th>\n",
              "      <td>image(196).jpg</td>\n",
              "      <td>3</td>\n",
              "    </tr>\n",
              "    <tr>\n",
              "      <th>2824</th>\n",
              "      <td>image(244).jpg</td>\n",
              "      <td>3</td>\n",
              "    </tr>\n",
              "    <tr>\n",
              "      <th>2825</th>\n",
              "      <td>image(36).jpg</td>\n",
              "      <td>3</td>\n",
              "    </tr>\n",
              "    <tr>\n",
              "      <th>2826</th>\n",
              "      <td>image(238).jpg</td>\n",
              "      <td>3</td>\n",
              "    </tr>\n",
              "    <tr>\n",
              "      <th>2827</th>\n",
              "      <td>image(71).jpg</td>\n",
              "      <td>3</td>\n",
              "    </tr>\n",
              "    <tr>\n",
              "      <th>2828</th>\n",
              "      <td>image(218).jpg</td>\n",
              "      <td>3</td>\n",
              "    </tr>\n",
              "    <tr>\n",
              "      <th>2829</th>\n",
              "      <td>image(202).jpg</td>\n",
              "      <td>3</td>\n",
              "    </tr>\n",
              "    <tr>\n",
              "      <th>2830</th>\n",
              "      <td>image (32).jpg</td>\n",
              "      <td>3</td>\n",
              "    </tr>\n",
              "    <tr>\n",
              "      <th>2831</th>\n",
              "      <td>image(157).jpg</td>\n",
              "      <td>3</td>\n",
              "    </tr>\n",
              "    <tr>\n",
              "      <th>2832</th>\n",
              "      <td>image(269).jpg</td>\n",
              "      <td>3</td>\n",
              "    </tr>\n",
              "    <tr>\n",
              "      <th>2833</th>\n",
              "      <td>image(128).jpg</td>\n",
              "      <td>3</td>\n",
              "    </tr>\n",
              "    <tr>\n",
              "      <th>2834</th>\n",
              "      <td>image (60).jpg</td>\n",
              "      <td>3</td>\n",
              "    </tr>\n",
              "    <tr>\n",
              "      <th>2835</th>\n",
              "      <td>image(56).jpg</td>\n",
              "      <td>3</td>\n",
              "    </tr>\n",
              "    <tr>\n",
              "      <th>2836</th>\n",
              "      <td>image(148).jpg</td>\n",
              "      <td>3</td>\n",
              "    </tr>\n",
              "    <tr>\n",
              "      <th>2837</th>\n",
              "      <td>image(185).jpg</td>\n",
              "      <td>3</td>\n",
              "    </tr>\n",
              "    <tr>\n",
              "      <th>2838</th>\n",
              "      <td>image(150).jpg</td>\n",
              "      <td>3</td>\n",
              "    </tr>\n",
              "    <tr>\n",
              "      <th>2839</th>\n",
              "      <td>image(62).jpg</td>\n",
              "      <td>3</td>\n",
              "    </tr>\n",
              "    <tr>\n",
              "      <th>2840</th>\n",
              "      <td>image(154).jpg</td>\n",
              "      <td>3</td>\n",
              "    </tr>\n",
              "    <tr>\n",
              "      <th>2841</th>\n",
              "      <td>image(111).jpg</td>\n",
              "      <td>3</td>\n",
              "    </tr>\n",
              "    <tr>\n",
              "      <th>2842</th>\n",
              "      <td>image(326).jpg</td>\n",
              "      <td>3</td>\n",
              "    </tr>\n",
              "    <tr>\n",
              "      <th>2843</th>\n",
              "      <td>image(253).jpg</td>\n",
              "      <td>3</td>\n",
              "    </tr>\n",
              "    <tr>\n",
              "      <th>2844</th>\n",
              "      <td>image(117).jpg</td>\n",
              "      <td>3</td>\n",
              "    </tr>\n",
              "    <tr>\n",
              "      <th>2845</th>\n",
              "      <td>image(268).jpg</td>\n",
              "      <td>3</td>\n",
              "    </tr>\n",
              "    <tr>\n",
              "      <th>2846</th>\n",
              "      <td>image(166).jpg</td>\n",
              "      <td>3</td>\n",
              "    </tr>\n",
              "    <tr>\n",
              "      <th>2847</th>\n",
              "      <td>image(296).jpg</td>\n",
              "      <td>3</td>\n",
              "    </tr>\n",
              "    <tr>\n",
              "      <th>2848</th>\n",
              "      <td>image (45).jpg</td>\n",
              "      <td>3</td>\n",
              "    </tr>\n",
              "    <tr>\n",
              "      <th>2849</th>\n",
              "      <td>image(275).jpg</td>\n",
              "      <td>3</td>\n",
              "    </tr>\n",
              "    <tr>\n",
              "      <th>2850</th>\n",
              "      <td>image(167).jpg</td>\n",
              "      <td>3</td>\n",
              "    </tr>\n",
              "    <tr>\n",
              "      <th>2851</th>\n",
              "      <td>image(318).jpg</td>\n",
              "      <td>3</td>\n",
              "    </tr>\n",
              "    <tr>\n",
              "      <th>2852</th>\n",
              "      <td>image (51).jpg</td>\n",
              "      <td>3</td>\n",
              "    </tr>\n",
              "    <tr>\n",
              "      <th>2853</th>\n",
              "      <td>image(78).jpg</td>\n",
              "      <td>3</td>\n",
              "    </tr>\n",
              "    <tr>\n",
              "      <th>2854</th>\n",
              "      <td>image(173).jpg</td>\n",
              "      <td>3</td>\n",
              "    </tr>\n",
              "    <tr>\n",
              "      <th>2855</th>\n",
              "      <td>image(181).jpg</td>\n",
              "      <td>3</td>\n",
              "    </tr>\n",
              "    <tr>\n",
              "      <th>2856</th>\n",
              "      <td>image(245).jpg</td>\n",
              "      <td>3</td>\n",
              "    </tr>\n",
              "    <tr>\n",
              "      <th>2857</th>\n",
              "      <td>image(298).jpg</td>\n",
              "      <td>3</td>\n",
              "    </tr>\n",
              "    <tr>\n",
              "      <th>2858</th>\n",
              "      <td>image (13).jpg</td>\n",
              "      <td>3</td>\n",
              "    </tr>\n",
              "    <tr>\n",
              "      <th>2859</th>\n",
              "      <td>image(121).jpg</td>\n",
              "      <td>3</td>\n",
              "    </tr>\n",
              "    <tr>\n",
              "      <th>2860</th>\n",
              "      <td>image(75).jpg</td>\n",
              "      <td>3</td>\n",
              "    </tr>\n",
              "    <tr>\n",
              "      <th>2861</th>\n",
              "      <td>image(314).jpg</td>\n",
              "      <td>3</td>\n",
              "    </tr>\n",
              "    <tr>\n",
              "      <th>2862</th>\n",
              "      <td>image(187).jpg</td>\n",
              "      <td>3</td>\n",
              "    </tr>\n",
              "    <tr>\n",
              "      <th>2863</th>\n",
              "      <td>image(72).jpg</td>\n",
              "      <td>3</td>\n",
              "    </tr>\n",
              "    <tr>\n",
              "      <th>2864</th>\n",
              "      <td>image(3).jpg</td>\n",
              "      <td>3</td>\n",
              "    </tr>\n",
              "    <tr>\n",
              "      <th>2865</th>\n",
              "      <td>image(49).jpg</td>\n",
              "      <td>3</td>\n",
              "    </tr>\n",
              "    <tr>\n",
              "      <th>2866</th>\n",
              "      <td>image (41).jpg</td>\n",
              "      <td>3</td>\n",
              "    </tr>\n",
              "    <tr>\n",
              "      <th>2867</th>\n",
              "      <td>image (17).jpg</td>\n",
              "      <td>3</td>\n",
              "    </tr>\n",
              "    <tr>\n",
              "      <th>2868</th>\n",
              "      <td>image(16).jpg</td>\n",
              "      <td>3</td>\n",
              "    </tr>\n",
              "    <tr>\n",
              "      <th>2869</th>\n",
              "      <td>image(120).jpg</td>\n",
              "      <td>3</td>\n",
              "    </tr>\n",
              "  </tbody>\n",
              "</table>\n",
              "</div>"
            ],
            "text/plain": [
              "               names  category\n",
              "2810  image(206).jpg         3\n",
              "2811  image(189).jpg         3\n",
              "2812   image(57).jpg         3\n",
              "2813  image(132).jpg         3\n",
              "2814   image(31).jpg         3\n",
              "2815           1.jpg         3\n",
              "2816  image(309).jpg         3\n",
              "2817   image(73).jpg         3\n",
              "2818  image (30).jpg         3\n",
              "2819  image(235).jpg         3\n",
              "2820  image (15).jpg         3\n",
              "2821   image(47).jpg         3\n",
              "2822  image(172).jpg         3\n",
              "2823  image(196).jpg         3\n",
              "2824  image(244).jpg         3\n",
              "2825   image(36).jpg         3\n",
              "2826  image(238).jpg         3\n",
              "2827   image(71).jpg         3\n",
              "2828  image(218).jpg         3\n",
              "2829  image(202).jpg         3\n",
              "2830  image (32).jpg         3\n",
              "2831  image(157).jpg         3\n",
              "2832  image(269).jpg         3\n",
              "2833  image(128).jpg         3\n",
              "2834  image (60).jpg         3\n",
              "2835   image(56).jpg         3\n",
              "2836  image(148).jpg         3\n",
              "2837  image(185).jpg         3\n",
              "2838  image(150).jpg         3\n",
              "2839   image(62).jpg         3\n",
              "2840  image(154).jpg         3\n",
              "2841  image(111).jpg         3\n",
              "2842  image(326).jpg         3\n",
              "2843  image(253).jpg         3\n",
              "2844  image(117).jpg         3\n",
              "2845  image(268).jpg         3\n",
              "2846  image(166).jpg         3\n",
              "2847  image(296).jpg         3\n",
              "2848  image (45).jpg         3\n",
              "2849  image(275).jpg         3\n",
              "2850  image(167).jpg         3\n",
              "2851  image(318).jpg         3\n",
              "2852  image (51).jpg         3\n",
              "2853   image(78).jpg         3\n",
              "2854  image(173).jpg         3\n",
              "2855  image(181).jpg         3\n",
              "2856  image(245).jpg         3\n",
              "2857  image(298).jpg         3\n",
              "2858  image (13).jpg         3\n",
              "2859  image(121).jpg         3\n",
              "2860   image(75).jpg         3\n",
              "2861  image(314).jpg         3\n",
              "2862  image(187).jpg         3\n",
              "2863   image(72).jpg         3\n",
              "2864    image(3).jpg         3\n",
              "2865   image(49).jpg         3\n",
              "2866  image (41).jpg         3\n",
              "2867  image (17).jpg         3\n",
              "2868   image(16).jpg         3\n",
              "2869  image(120).jpg         3"
            ]
          },
          "metadata": {
            "tags": []
          },
          "execution_count": 198
        }
      ]
    },
    {
      "cell_type": "code",
      "metadata": {
        "colab": {
          "base_uri": "https://localhost:8080/"
        },
        "id": "tRppzujRq6ET",
        "outputId": "be931a51-2fe2-4f8c-a651-4aa82c095bfa"
      },
      "source": [
        "import numpy as np\n",
        "m=np.array(n)\n",
        "print(m)\n",
        "len(m)"
      ],
      "execution_count": null,
      "outputs": [
        {
          "output_type": "stream",
          "text": [
            "['gg (677).jpg' 'gg (78).jpg' 'gg (188).jpg' ... 'image (17).jpg'\n",
            " 'image(16).jpg' 'image(120).jpg']\n"
          ],
          "name": "stdout"
        },
        {
          "output_type": "execute_result",
          "data": {
            "text/plain": [
              "2870"
            ]
          },
          "metadata": {
            "tags": []
          },
          "execution_count": 219
        }
      ]
    },
    {
      "cell_type": "code",
      "metadata": {
        "colab": {
          "base_uri": "https://localhost:8080/",
          "height": 167
        },
        "id": "OJTfWfvtXaED",
        "outputId": "2e43a21f-2c28-4c52-d4c7-dc28e116fac3"
      },
      "source": [
        "n[0].shape"
      ],
      "execution_count": null,
      "outputs": [
        {
          "output_type": "error",
          "ename": "AttributeError",
          "evalue": "ignored",
          "traceback": [
            "\u001b[0;31m---------------------------------------------------------------------------\u001b[0m",
            "\u001b[0;31mAttributeError\u001b[0m                            Traceback (most recent call last)",
            "\u001b[0;32m<ipython-input-203-96d086b0e8fe>\u001b[0m in \u001b[0;36m<module>\u001b[0;34m()\u001b[0m\n\u001b[0;32m----> 1\u001b[0;31m \u001b[0mn\u001b[0m\u001b[0;34m[\u001b[0m\u001b[0;36m0\u001b[0m\u001b[0;34m]\u001b[0m\u001b[0;34m.\u001b[0m\u001b[0mshape\u001b[0m\u001b[0;34m\u001b[0m\u001b[0;34m\u001b[0m\u001b[0m\n\u001b[0m",
            "\u001b[0;31mAttributeError\u001b[0m: 'str' object has no attribute 'shape'"
          ]
        }
      ]
    },
    {
      "cell_type": "code",
      "metadata": {
        "id": "bbfx1T0dXaGc"
      },
      "source": [
        "import cv2\n",
        "import matplotlib.pyplot as plt"
      ],
      "execution_count": null,
      "outputs": []
    },
    {
      "cell_type": "code",
      "metadata": {
        "id": "9PpVqZzYBxfk"
      },
      "source": [
        "for i in m:\n",
        "  image=cv2.imread(i)\n",
        "plt.show(n[1])\n"
      ],
      "execution_count": null,
      "outputs": []
    },
    {
      "cell_type": "code",
      "metadata": {
        "colab": {
          "base_uri": "https://localhost:8080/"
        },
        "id": "DBKKsCLUXaJ2",
        "outputId": "1c28bb4a-cbd1-4212-99af-6c821aa5e30e"
      },
      "source": [
        "import random\n",
        "random.choice"
      ],
      "execution_count": null,
      "outputs": [
        {
          "output_type": "execute_result",
          "data": {
            "text/plain": [
              "<bound method Random.choice of <random.Random object at 0x55b5ae244120>>"
            ]
          },
          "metadata": {
            "tags": []
          },
          "execution_count": 224
        }
      ]
    },
    {
      "cell_type": "code",
      "metadata": {
        "id": "PWn2KZ5DB0lS"
      },
      "source": [
        "plt.show(random.choice(k))"
      ],
      "execution_count": null,
      "outputs": []
    },
    {
      "cell_type": "code",
      "metadata": {
        "id": "dmD-b3SHB0na"
      },
      "source": [
        "import os"
      ],
      "execution_count": null,
      "outputs": []
    },
    {
      "cell_type": "code",
      "metadata": {
        "id": "kqBnmPtXHnxU"
      },
      "source": [
        "list_dic={\"glioma_tumor\":0,\"meningioma_tumor\":1,\"no_tumor\":3,\"pituitary_tumor\":2}"
      ],
      "execution_count": null,
      "outputs": []
    },
    {
      "cell_type": "code",
      "metadata": {
        "id": "HAFwwHuSHn01"
      },
      "source": [
        "categories=[\"glioma_tumor\",\"meningioma_tumor\",\"pituitary_tumor\",\"no_tumor\"]"
      ],
      "execution_count": null,
      "outputs": []
    },
    {
      "cell_type": "code",
      "metadata": {
        "id": "Z98IG9sDHn3m"
      },
      "source": [
        "labels=[0,1,2,3]"
      ],
      "execution_count": null,
      "outputs": []
    },
    {
      "cell_type": "code",
      "metadata": {
        "id": "zhbrLbh1Hn6R"
      },
      "source": [
        "data_path=\"/content/Training\""
      ],
      "execution_count": null,
      "outputs": []
    },
    {
      "cell_type": "code",
      "metadata": {
        "id": "q2EQlOC9pusM"
      },
      "source": [
        "data=[]\n",
        "target=[]"
      ],
      "execution_count": null,
      "outputs": []
    },
    {
      "cell_type": "code",
      "metadata": {
        "id": "URkqtjlLB0pc"
      },
      "source": [
        "for i in categories:\n",
        "  folder_path=os.path.join(data_path,i)\n",
        "  images_names=os.listdir(folder_path)\n",
        "  for im_name in images_names:\n",
        "    image_path=os.path.join(folder_path,im_name)\n",
        "    img=cv2.imread(image_path)\n",
        "    try:\n",
        "      resized=cv2.resize(img,(100,100))\n",
        "      data.append(resized)\n",
        "      target.append(list_dic[i])\n",
        "    except Exception as e:\n",
        "      pass"
      ],
      "execution_count": null,
      "outputs": []
    },
    {
      "cell_type": "code",
      "metadata": {
        "id": "fzo2JOcEB0rl"
      },
      "source": [
        "import numpy as np"
      ],
      "execution_count": null,
      "outputs": []
    },
    {
      "cell_type": "code",
      "metadata": {
        "id": "jcn1B41lB0tx"
      },
      "source": [
        "data=np.array(data)"
      ],
      "execution_count": null,
      "outputs": []
    },
    {
      "cell_type": "code",
      "metadata": {
        "id": "2yB8zCo-B0wg"
      },
      "source": [
        "data=data/255"
      ],
      "execution_count": null,
      "outputs": []
    },
    {
      "cell_type": "code",
      "metadata": {
        "id": "m0dZzIdAB0yx",
        "colab": {
          "base_uri": "https://localhost:8080/"
        },
        "outputId": "97ea5aa1-8982-4270-daac-413a82e5ffb4"
      },
      "source": [
        "data.shape"
      ],
      "execution_count": null,
      "outputs": [
        {
          "output_type": "execute_result",
          "data": {
            "text/plain": [
              "(2870, 100, 100, 3)"
            ]
          },
          "metadata": {
            "tags": []
          },
          "execution_count": 20
        }
      ]
    },
    {
      "cell_type": "code",
      "metadata": {
        "id": "1Svb4OAGB02L"
      },
      "source": [
        "target=np.array(target)"
      ],
      "execution_count": null,
      "outputs": []
    },
    {
      "cell_type": "code",
      "metadata": {
        "colab": {
          "base_uri": "https://localhost:8080/"
        },
        "id": "jj5FAOBWsoUI",
        "outputId": "74c7780c-6ca5-4096-9106-8725cbf5b8d0"
      },
      "source": [
        "target.shape"
      ],
      "execution_count": null,
      "outputs": [
        {
          "output_type": "execute_result",
          "data": {
            "text/plain": [
              "(2870,)"
            ]
          },
          "metadata": {
            "tags": []
          },
          "execution_count": 22
        }
      ]
    },
    {
      "cell_type": "code",
      "metadata": {
        "id": "SBZxTiGmsoXu"
      },
      "source": [
        "from keras.utils import np_utils"
      ],
      "execution_count": null,
      "outputs": []
    },
    {
      "cell_type": "code",
      "metadata": {
        "id": "HwwzqdsIsoaC"
      },
      "source": [
        "new_target=np_utils.to_categorical(target)"
      ],
      "execution_count": null,
      "outputs": []
    },
    {
      "cell_type": "code",
      "metadata": {
        "colab": {
          "base_uri": "https://localhost:8080/"
        },
        "id": "woaDhS9Gsob3",
        "outputId": "6763eb50-27a2-4326-91d9-93a30c980885"
      },
      "source": [
        "new_target.shape"
      ],
      "execution_count": null,
      "outputs": [
        {
          "output_type": "execute_result",
          "data": {
            "text/plain": [
              "(2870, 4)"
            ]
          },
          "metadata": {
            "tags": []
          },
          "execution_count": 25
        }
      ]
    },
    {
      "cell_type": "code",
      "metadata": {
        "id": "tMGUMzwgnx8u"
      },
      "source": [
        " from sklearn.model_selection import train_test_split"
      ],
      "execution_count": null,
      "outputs": []
    },
    {
      "cell_type": "code",
      "metadata": {
        "id": "7NZZnvsbnyTx"
      },
      "source": [
        "X_train, X_test, y_train, y_test = train_test_split(\n",
        "...     data, new_target, test_size=0.33, random_state=42)"
      ],
      "execution_count": null,
      "outputs": []
    },
    {
      "cell_type": "code",
      "metadata": {
        "id": "OOKCo-rUsoeB"
      },
      "source": [
        "from keras.models import Sequential\n",
        "from keras.layers import Dense, Conv2D, Flatten\n",
        "from keras.layers import Dropout,MaxPooling2D\n"
      ],
      "execution_count": null,
      "outputs": []
    },
    {
      "cell_type": "code",
      "metadata": {
        "id": "prRZfBtnsogF"
      },
      "source": [
        "model = Sequential()\n",
        "#add model layers\n",
        "model.add(Conv2D(200,(3,3),input_shape=data.shape[1:],activation='relu'))\n",
        "model.add(MaxPooling2D(pool_size=(2,2)))\n",
        "model.add(Conv2D(100,(3,3),activation='relu'))\n",
        "model.add(MaxPooling2D(pool_size=(2,2)))\n",
        "model.add(Flatten())\n",
        "model.add(Dropout(0.5))\n",
        "model.add(Dense(50,activation='relu'))\n",
        "model.add(Dense(4,activation='softmax'))"
      ],
      "execution_count": null,
      "outputs": []
    },
    {
      "cell_type": "code",
      "metadata": {
        "id": "-RVfAH-OsoiM"
      },
      "source": [
        "model.compile(optimizer='adam', loss='categorical_crossentropy', metrics=['accuracy'])"
      ],
      "execution_count": null,
      "outputs": []
    },
    {
      "cell_type": "code",
      "metadata": {
        "id": "qBbQcYvdj0sd"
      },
      "source": [
        ""
      ],
      "execution_count": null,
      "outputs": []
    },
    {
      "cell_type": "code",
      "metadata": {
        "colab": {
          "base_uri": "https://localhost:8080/"
        },
        "id": "cOceJIxSsokE",
        "outputId": "f62c4dbf-1be8-4ed8-b9c3-280a621e5eb4"
      },
      "source": [
        "model.fit(X_train,y_train,epochs=7)"
      ],
      "execution_count": null,
      "outputs": [
        {
          "output_type": "stream",
          "text": [
            "Epoch 1/7\n",
            "61/61 [==============================] - 103s 2s/step - loss: 0.4186 - accuracy: 0.8543\n",
            "Epoch 2/7\n",
            "61/61 [==============================] - 100s 2s/step - loss: 0.3463 - accuracy: 0.8720\n",
            "Epoch 3/7\n",
            "61/61 [==============================] - 102s 2s/step - loss: 0.2526 - accuracy: 0.9053\n",
            "Epoch 4/7\n",
            "61/61 [==============================] - 102s 2s/step - loss: 0.2019 - accuracy: 0.9318\n",
            "Epoch 5/7\n",
            "61/61 [==============================] - 100s 2s/step - loss: 0.1568 - accuracy: 0.9464\n",
            "Epoch 6/7\n",
            "61/61 [==============================] - 100s 2s/step - loss: 0.1271 - accuracy: 0.9506\n",
            "Epoch 7/7\n",
            "61/61 [==============================] - 99s 2s/step - loss: 0.0800 - accuracy: 0.9735\n"
          ],
          "name": "stdout"
        },
        {
          "output_type": "execute_result",
          "data": {
            "text/plain": [
              "<tensorflow.python.keras.callbacks.History at 0x7f986978a310>"
            ]
          },
          "metadata": {
            "tags": []
          },
          "execution_count": 39
        }
      ]
    },
    {
      "cell_type": "code",
      "metadata": {
        "id": "e-NEXcHUsonY",
        "colab": {
          "base_uri": "https://localhost:8080/"
        },
        "outputId": "7bce8313-7a18-492f-9cab-65f8f8cd234c"
      },
      "source": [
        "model.predict(X_test)"
      ],
      "execution_count": null,
      "outputs": [
        {
          "output_type": "execute_result",
          "data": {
            "text/plain": [
              "array([[9.9648452e-01, 3.2788774e-03, 2.2719007e-04, 9.3682538e-06],\n",
              "       [1.8755102e-04, 4.8536393e-03, 3.0142706e-07, 9.9495858e-01],\n",
              "       [8.3070636e-01, 1.6920400e-01, 3.1237101e-05, 5.8459471e-05],\n",
              "       ...,\n",
              "       [4.6585777e-05, 1.7073278e-04, 4.2033516e-04, 9.9936241e-01],\n",
              "       [3.0204947e-05, 6.1190833e-05, 6.7722411e-08, 9.9990857e-01],\n",
              "       [9.2007279e-01, 7.9887122e-02, 1.0931699e-06, 3.9035349e-05]],\n",
              "      dtype=float32)"
            ]
          },
          "metadata": {
            "tags": []
          },
          "execution_count": 40
        }
      ]
    }
  ]
}